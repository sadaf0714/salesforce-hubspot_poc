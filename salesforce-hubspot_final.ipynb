{
 "cells": [
  {
   "cell_type": "markdown",
   "metadata": {
    "application/vnd.databricks.v1+cell": {
     "cellMetadata": {
      "byteLimit": 2048000,
      "rowLimit": 10000
     },
     "inputWidgets": {},
     "nuid": "3c2a2486-66f8-4974-b5fe-ea581d07e089",
     "showTitle": false,
     "title": ""
    }
   },
   "source": [
    "### Installing Library"
   ]
  },
  {
   "cell_type": "code",
   "execution_count": 0,
   "metadata": {
    "application/vnd.databricks.v1+cell": {
     "cellMetadata": {
      "byteLimit": 2048000,
      "rowLimit": 10000
     },
     "inputWidgets": {},
     "nuid": "9f816d1f-f084-4f8e-92f6-3d69cfff4c14",
     "showTitle": false,
     "title": ""
    }
   },
   "outputs": [
    {
     "output_type": "stream",
     "name": "stdout",
     "output_type": "stream",
     "text": [
      "Python interpreter will be restarted.\nCollecting simple_salesforce\n  Downloading simple_salesforce-1.12.5-py2.py3-none-any.whl (128 kB)\nCollecting more-itertools\n  Downloading more_itertools-10.1.0-py3-none-any.whl (55 kB)\nRequirement already satisfied: cryptography in /databricks/python3/lib/python3.9/site-packages (from simple_salesforce) (3.4.8)\nCollecting pyjwt\n  Downloading PyJWT-2.8.0-py3-none-any.whl (22 kB)\nCollecting zeep\n  Downloading zeep-4.2.1-py3-none-any.whl (101 kB)\nRequirement already satisfied: requests>=2.22.0 in /databricks/python3/lib/python3.9/site-packages (from simple_salesforce) (2.27.1)\nCollecting pendulum\n  Downloading pendulum-2.1.2-cp39-cp39-manylinux1_x86_64.whl (155 kB)\nRequirement already satisfied: idna<4,>=2.5 in /databricks/python3/lib/python3.9/site-packages (from requests>=2.22.0->simple_salesforce) (3.3)\nRequirement already satisfied: charset-normalizer~=2.0.0 in /databricks/python3/lib/python3.9/site-packages (from requests>=2.22.0->simple_salesforce) (2.0.4)\nRequirement already satisfied: urllib3<1.27,>=1.21.1 in /databricks/python3/lib/python3.9/site-packages (from requests>=2.22.0->simple_salesforce) (1.26.9)\nRequirement already satisfied: certifi>=2017.4.17 in /databricks/python3/lib/python3.9/site-packages (from requests>=2.22.0->simple_salesforce) (2021.10.8)\nRequirement already satisfied: cffi>=1.12 in /databricks/python3/lib/python3.9/site-packages (from cryptography->simple_salesforce) (1.15.0)\nRequirement already satisfied: pycparser in /databricks/python3/lib/python3.9/site-packages (from cffi>=1.12->cryptography->simple_salesforce) (2.21)\nCollecting pytzdata>=2020.1\n  Downloading pytzdata-2020.1-py2.py3-none-any.whl (489 kB)\nRequirement already satisfied: python-dateutil<3.0,>=2.6 in /databricks/python3/lib/python3.9/site-packages (from pendulum->simple_salesforce) (2.8.2)\nRequirement already satisfied: six>=1.5 in /databricks/python3/lib/python3.9/site-packages (from python-dateutil<3.0,>=2.6->pendulum->simple_salesforce) (1.16.0)\nCollecting isodate>=0.5.4\n  Downloading isodate-0.6.1-py2.py3-none-any.whl (41 kB)\nCollecting requests-file>=1.5.1\n  Downloading requests_file-1.5.1-py2.py3-none-any.whl (3.7 kB)\nCollecting lxml>=4.6.0\n  Downloading lxml-4.9.3-cp39-cp39-manylinux_2_28_x86_64.whl (8.0 MB)\nRequirement already satisfied: platformdirs>=1.4.0 in /usr/local/lib/python3.9/dist-packages (from zeep->simple_salesforce) (2.6.2)\nRequirement already satisfied: pytz in /databricks/python3/lib/python3.9/site-packages (from zeep->simple_salesforce) (2021.3)\nCollecting requests-toolbelt>=0.7.1\n  Downloading requests_toolbelt-1.0.0-py2.py3-none-any.whl (54 kB)\nRequirement already satisfied: attrs>=17.2.0 in /databricks/python3/lib/python3.9/site-packages (from zeep->simple_salesforce) (21.4.0)\nInstalling collected packages: requests-toolbelt, requests-file, pytzdata, lxml, isodate, zeep, pyjwt, pendulum, more-itertools, simple-salesforce\nSuccessfully installed isodate-0.6.1 lxml-4.9.3 more-itertools-10.1.0 pendulum-2.1.2 pyjwt-2.8.0 pytzdata-2020.1 requests-file-1.5.1 requests-toolbelt-1.0.0 simple-salesforce-1.12.5 zeep-4.2.1\nPython interpreter will be restarted.\n"
     ]
    }
   ],
   "source": [
    "%pip install simple_salesforce"
   ]
  },
  {
   "cell_type": "markdown",
   "metadata": {
    "application/vnd.databricks.v1+cell": {
     "cellMetadata": {
      "byteLimit": 2048000,
      "rowLimit": 10000
     },
     "inputWidgets": {},
     "nuid": "33edfd57-fb71-4b45-a23c-df039f5e9511",
     "showTitle": false,
     "title": ""
    }
   },
   "source": [
    "###Imports"
   ]
  },
  {
   "cell_type": "code",
   "execution_count": 0,
   "metadata": {
    "application/vnd.databricks.v1+cell": {
     "cellMetadata": {
      "byteLimit": 2048000,
      "rowLimit": 10000
     },
     "inputWidgets": {},
     "nuid": "17005ac6-90dd-4ea0-a2cd-24bd4a8de7d8",
     "showTitle": false,
     "title": ""
    }
   },
   "outputs": [
    {
     "output_type": "display_data",
     "data": {
      "application/vnd.databricks.v1+bamboolib_hint": "{\"pd.DataFrames\": [], \"version\": \"0.0.1\"}",
      "text/plain": []
     },
     "metadata": {},
     "output_type": "display_data"
    }
   ],
   "source": [
    "from simple_salesforce import Salesforce\n",
    "from pyspark.sql.functions import *\n",
    "from datetime import *\n",
    "import pandas as pd\n",
    "import requests\n",
    "import json"
   ]
  },
  {
   "cell_type": "markdown",
   "metadata": {
    "application/vnd.databricks.v1+cell": {
     "cellMetadata": {
      "byteLimit": 2048000,
      "rowLimit": 10000
     },
     "inputWidgets": {},
     "nuid": "8c1271d1-777f-4b60-8a59-8660c26c2610",
     "showTitle": false,
     "title": ""
    }
   },
   "source": [
    "### Configuring salesforce with databricks"
   ]
  },
  {
   "cell_type": "code",
   "execution_count": 0,
   "metadata": {
    "application/vnd.databricks.v1+cell": {
     "cellMetadata": {
      "byteLimit": 2048000,
      "rowLimit": 10000
     },
     "inputWidgets": {},
     "nuid": "cd12ffae-be8c-4811-8710-9dd7479a2fae",
     "showTitle": false,
     "title": ""
    }
   },
   "outputs": [],
   "source": [
    "sf_username = \"integration2user@metacube.com\"\n",
    "sf_password = \"Salesforce@123\"\n",
    "sf_security_token = \"RgYHOb4pFNPAIZBL9v6mQjxp\"\n",
    "sf = Salesforce(\n",
    "    username=sf_username,\n",
    "    password=sf_password,\n",
    "    security_token=sf_security_token,\n",
    "    instance_url=\"https://your_salesforce_instance_url\",\n",
    ")"
   ]
  },
  {
   "cell_type": "code",
   "execution_count": 0,
   "metadata": {
    "application/vnd.databricks.v1+cell": {
     "cellMetadata": {
      "byteLimit": 2048000,
      "rowLimit": 10000
     },
     "inputWidgets": {},
     "nuid": "ab1caeb1-6219-4199-b2f0-a15195091a1a",
     "showTitle": false,
     "title": ""
    }
   },
   "outputs": [],
   "source": [
    "curr_time = datetime.now()\n",
    "last_time = datetime.now() - timedelta(hours=48)\n",
    "curr_time = curr_time.strftime(\"%Y-%m-%dT%H:%M:%S.%fZ\")\n",
    "last_time = last_time.strftime(\"%Y-%m-%dT%H:%M:%S.%fZ\")"
   ]
  },
  {
   "cell_type": "code",
   "execution_count": 0,
   "metadata": {
    "application/vnd.databricks.v1+cell": {
     "cellMetadata": {
      "byteLimit": 2048000,
      "rowLimit": 10000
     },
     "inputWidgets": {},
     "nuid": "a68b4fac-ec8b-44e0-a76f-65141f2b0361",
     "showTitle": true,
     "title": "Reading from Salesforce."
    }
   },
   "outputs": [
    {
     "output_type": "stream",
     "name": "stdout",
     "output_type": "stream",
     "text": [
      "[OrderedDict([('attributes', OrderedDict([('type', 'Contact'), ('url', '/services/data/v57.0/sobjects/Contact/0035h00001InabnAAB')])), ('FirstName', 'neeraj1'), ('LastName', 'Cooper133'), ('Email', 'bcooper@biglytdics.net')]), OrderedDict([('attributes', OrderedDict([('type', 'Contact'), ('url', '/services/data/v57.0/sobjects/Contact/0035h00001InaboAAB')])), ('FirstName', 'Brian'), ('LastName', 'Halligann(test)'), ('Email', 'bh@hubspot.com')]), OrderedDict([('attributes', OrderedDict([('type', 'Contact'), ('url', '/services/data/v57.0/sobjects/Contact/0035h00001Ioc5kAAB')])), ('FirstName', 'Fletcher'), ('LastName', 'Flosi'), ('Email', 'fletcher.flosi@yahoo.com')]), OrderedDict([('attributes', OrderedDict([('type', 'Contact'), ('url', '/services/data/v57.0/sobjects/Contact/0035h00001Ioc5lAAB')])), ('FirstName', 'Bette'), ('LastName', 'Nicka'), ('Email', 'bette_nicka@cox.net')]), OrderedDict([('attributes', OrderedDict([('type', 'Contact'), ('url', '/services/data/v57.0/sobjects/Contact/0035h00001Ioc5mAAB')])), ('FirstName', 'Veronika'), ('LastName', 'Inouye'), ('Email', 'vinouye@aol.com')]), OrderedDict([('attributes', OrderedDict([('type', 'Contact'), ('url', '/services/data/v57.0/sobjects/Contact/0035h00001Ioc5nAAB')])), ('FirstName', 'Willard'), ('LastName', 'Kolmetz'), ('Email', 'willard@hotmail.com')]), OrderedDict([('attributes', OrderedDict([('type', 'Contact'), ('url', '/services/data/v57.0/sobjects/Contact/0035h00001Ioc5RAAR')])), ('FirstName', 'James'), ('LastName', 'Butt'), ('Email', 'jbutt@gmail.com')]), OrderedDict([('attributes', OrderedDict([('type', 'Contact'), ('url', '/services/data/v57.0/sobjects/Contact/0035h00001Ioc5SAAR')])), ('FirstName', 'Josephine'), ('LastName', 'Darakjy'), ('Email', 'josephine_darakjy@darakjy.org')]), OrderedDict([('attributes', OrderedDict([('type', 'Contact'), ('url', '/services/data/v57.0/sobjects/Contact/0035h00001Ioc5TAAR')])), ('FirstName', 'Art'), ('LastName', 'Venere'), ('Email', 'art@venere.org')]), OrderedDict([('attributes', OrderedDict([('type', 'Contact'), ('url', '/services/data/v57.0/sobjects/Contact/0035h00001Ioc5UAAR')])), ('FirstName', 'Lenna'), ('LastName', 'Paprocki'), ('Email', 'lpaprocki@hotmail.com')]), OrderedDict([('attributes', OrderedDict([('type', 'Contact'), ('url', '/services/data/v57.0/sobjects/Contact/0035h00001Ioc5VAAR')])), ('FirstName', 'Donette'), ('LastName', 'Foller'), ('Email', 'donette.foller@cox.net')]), OrderedDict([('attributes', OrderedDict([('type', 'Contact'), ('url', '/services/data/v57.0/sobjects/Contact/0035h00001Ioc5YAAR')])), ('FirstName', 'Leota'), ('LastName', 'Dilliard'), ('Email', 'leota@hotmail.com')]), OrderedDict([('attributes', OrderedDict([('type', 'Contact'), ('url', '/services/data/v57.0/sobjects/Contact/0035h00001Ioc5jAAB')])), ('FirstName', 'Yuki'), ('LastName', 'Whobrey'), ('Email', 'yuki_whobrey@aol.com')]), OrderedDict([('attributes', OrderedDict([('type', 'Contact'), ('url', '/services/data/v57.0/sobjects/Contact/0035h00001Ioc5ZAAR')])), ('FirstName', 'Sage'), ('LastName', 'Wieser'), ('Email', 'sage_wieser@cox.net')]), OrderedDict([('attributes', OrderedDict([('type', 'Contact'), ('url', '/services/data/v57.0/sobjects/Contact/0035h00001Ioc5aAAB')])), ('FirstName', 'Kris'), ('LastName', 'Marrier'), ('Email', 'kris@gmail.com')]), OrderedDict([('attributes', OrderedDict([('type', 'Contact'), ('url', '/services/data/v57.0/sobjects/Contact/0035h00001Ioc5dAAB')])), ('FirstName', 'Kiley'), ('LastName', 'Caldarera'), ('Email', 'kiley.caldarera@aol.com')]), OrderedDict([('attributes', OrderedDict([('type', 'Contact'), ('url', '/services/data/v57.0/sobjects/Contact/0035h00001Ioc5eAAB')])), ('FirstName', 'Graciela'), ('LastName', 'Ruta'), ('Email', 'gruta@cox.net')]), OrderedDict([('attributes', OrderedDict([('type', 'Contact'), ('url', '/services/data/v57.0/sobjects/Contact/0035h00001Ioc5fAAB')])), ('FirstName', 'Cammy'), ('LastName', 'Albares'), ('Email', 'calbares@gmail.com')]), OrderedDict([('attributes', OrderedDict([('type', 'Contact'), ('url', '/services/data/v57.0/sobjects/Contact/0035h00001Ioc6SAAR')])), ('FirstName', 'Carmelina'), ('LastName', 'Lindall'), ('Email', 'carmelina_lindall@lindall.com')]), OrderedDict([('attributes', OrderedDict([('type', 'Contact'), ('url', '/services/data/v57.0/sobjects/Contact/0035h00001Ioc6TAAR')])), ('FirstName', 'Maurine'), ('LastName', 'Yglesias'), ('Email', 'maurine_yglesias@yglesias.com')]), OrderedDict([('attributes', OrderedDict([('type', 'Contact'), ('url', '/services/data/v57.0/sobjects/Contact/0035h00001Ioc6UAAR')])), ('FirstName', 'Tawna'), ('LastName', 'Buvens'), ('Email', 'tawna@gmail.com')]), OrderedDict([('attributes', OrderedDict([('type', 'Contact'), ('url', '/services/data/v57.0/sobjects/Contact/0035h00001Ioc6VAAR')])), ('FirstName', 'Penney'), ('LastName', 'Weight'), ('Email', 'penney_weight@aol.com')]), OrderedDict([('attributes', OrderedDict([('type', 'Contact'), ('url', '/services/data/v57.0/sobjects/Contact/0035h00001Ioc5uAAB')])), ('FirstName', 'Bernardo'), ('LastName', 'Figeroa'), ('Email', 'bfigeroa@aol.com')]), OrderedDict([('attributes', OrderedDict([('type', 'Contact'), ('url', '/services/data/v57.0/sobjects/Contact/0035h00001Ioc5gAAB')])), ('FirstName', 'Mattie'), ('LastName', 'Poquette'), ('Email', 'mattie@aol.com')]), OrderedDict([('attributes', OrderedDict([('type', 'Contact'), ('url', '/services/data/v57.0/sobjects/Contact/0035h00001Ioc5hAAB')])), ('FirstName', 'Meaghan'), ('LastName', 'Garufi'), ('Email', 'meaghan@hotmail.com')]), OrderedDict([('attributes', OrderedDict([('type', 'Contact'), ('url', '/services/data/v57.0/sobjects/Contact/0035h00001Ioc5iAAB')])), ('FirstName', 'Gladys'), ('LastName', 'Rim'), ('Email', 'gladys.rim@rim.org')]), OrderedDict([('attributes', OrderedDict([('type', 'Contact'), ('url', '/services/data/v57.0/sobjects/Contact/0035h00001Ioc5oAAB')])), ('FirstName', 'Maryann'), ('LastName', 'Royster'), ('Email', 'mroyster@royster.com')]), OrderedDict([('attributes', OrderedDict([('type', 'Contact'), ('url', '/services/data/v57.0/sobjects/Contact/0035h00001Ioc5pAAB')])), ('FirstName', 'Alisha'), ('LastName', 'Slusarski'), ('Email', 'alisha@slusarski.com')]), OrderedDict([('attributes', OrderedDict([('type', 'Contact'), ('url', '/services/data/v57.0/sobjects/Contact/0035h00001Ioc5qAAB')])), ('FirstName', 'Allene'), ('LastName', 'Iturbide'), ('Email', 'allene_iturbide@cox.net')]), OrderedDict([('attributes', OrderedDict([('type', 'Contact'), ('url', '/services/data/v57.0/sobjects/Contact/0035h00001Ioc5rAAB')])), ('FirstName', 'Chanel'), ('LastName', 'Caudy'), ('Email', 'chanel.caudy@caudy.org')]), OrderedDict([('attributes', OrderedDict([('type', 'Contact'), ('url', '/services/data/v57.0/sobjects/Contact/0035h00001Ioc5sAAB')])), ('FirstName', 'Ezekiel'), ('LastName', 'Chui'), ('Email', 'ezekiel@chui.com')]), OrderedDict([('attributes', OrderedDict([('type', 'Contact'), ('url', '/services/data/v57.0/sobjects/Contact/0035h00001Ioc5tAAB')])), ('FirstName', 'Willow'), ('LastName', 'Kusko'), ('Email', 'wkusko@yahoo.com')]), OrderedDict([('attributes', OrderedDict([('type', 'Contact'), ('url', '/services/data/v57.0/sobjects/Contact/0035h00001Ioc6ZAAR')])), ('FirstName', 'Kallie'), ('LastName', 'Blackwood'), ('Email', 'kallie.blackwood@gmail.com')]), OrderedDict([('attributes', OrderedDict([('type', 'Contact'), ('url', '/services/data/v57.0/sobjects/Contact/0035h00001Ioc6WAAR')])), ('FirstName', 'Elly'), ('LastName', 'Morocco'), ('Email', 'elly_morocco@gmail.com')]), OrderedDict([('attributes', OrderedDict([('type', 'Contact'), ('url', '/services/data/v57.0/sobjects/Contact/0035h00001Ioc6XAAR')])), ('FirstName', 'Ilene'), ('LastName', 'Eroman'), ('Email', 'ilene.eroman@hotmail.com')]), OrderedDict([('attributes', OrderedDict([('type', 'Contact'), ('url', '/services/data/v57.0/sobjects/Contact/0035h00001Ioc6YAAR')])), ('FirstName', 'Vallie'), ('LastName', 'Mondella'), ('Email', 'vmondella@mondella.com')]), OrderedDict([('attributes', OrderedDict([('type', 'Contact'), ('url', '/services/data/v57.0/sobjects/Contact/0035h00001Ioc6aAAB')])), ('FirstName', 'Johnetta'), ('LastName', 'Abdallah'), ('Email', 'johnetta_abdallah@aol.com')]), OrderedDict([('attributes', OrderedDict([('type', 'Contact'), ('url', '/services/data/v57.0/sobjects/Contact/0035h00001Ioc6cAAB')])), ('FirstName', 'Micaela'), ('LastName', 'Rhymes'), ('Email', 'micaela_rhymes@gmail.com')]), OrderedDict([('attributes', OrderedDict([('type', 'Contact'), ('url', '/services/data/v57.0/sobjects/Contact/0035h00001Ioc6dAAB')])), ('FirstName', 'Tamar'), ('LastName', 'Hoogland'), ('Email', 'tamar@hotmail.com')]), OrderedDict([('attributes', OrderedDict([('type', 'Contact'), ('url', '/services/data/v57.0/sobjects/Contact/0035h00001Ioc6eAAB')])), ('FirstName', 'Moon'), ('LastName', 'Parlato'), ('Email', 'moon@yahoo.com')]), OrderedDict([('attributes', OrderedDict([('type', 'Contact'), ('url', '/services/data/v57.0/sobjects/Contact/0035h00001Ioc6gAAB')])), ('FirstName', 'Delisa'), ('LastName', 'Crupi'), ('Email', 'delisa.crupi@crupi.com')]), OrderedDict([('attributes', OrderedDict([('type', 'Contact'), ('url', '/services/data/v57.0/sobjects/Contact/0035h00001Ioc5yAAB')])), ('FirstName', 'Albina'), ('LastName', 'Glick'), ('Email', 'albina@glick.com')]), OrderedDict([('attributes', OrderedDict([('type', 'Contact'), ('url', '/services/data/v57.0/sobjects/Contact/0035h00001Ioc5vAAB')])), ('FirstName', 'Ammie'), ('LastName', 'Corrio'), ('Email', 'ammie@corrio.com')]), OrderedDict([('attributes', OrderedDict([('type', 'Contact'), ('url', '/services/data/v57.0/sobjects/Contact/0035h00001Ioc5wAAB')])), ('FirstName', 'Francine'), ('LastName', 'Vocelka'), ('Email', 'francine_vocelka@vocelka.com')]), OrderedDict([('attributes', OrderedDict([('type', 'Contact'), ('url', '/services/data/v57.0/sobjects/Contact/0035h00001Ioc5xAAB')])), ('FirstName', 'Ernie'), ('LastName', 'Stenseth'), ('Email', 'ernie_stenseth@aol.com')]), OrderedDict([('attributes', OrderedDict([('type', 'Contact'), ('url', '/services/data/v57.0/sobjects/Contact/0035h00001Ioc5zAAB')])), ('FirstName', 'Alishia'), ('LastName', 'Sergi'), ('Email', 'asergi@gmail.com')]), OrderedDict([('attributes', OrderedDict([('type', 'Contact'), ('url', '/services/data/v57.0/sobjects/Contact/0035h00001Ioc60AAB')])), ('FirstName', 'Solange'), ('LastName', 'Shinko'), ('Email', 'solange@shinko.com')]), OrderedDict([('attributes', OrderedDict([('type', 'Contact'), ('url', '/services/data/v57.0/sobjects/Contact/0035h00001Ioc6kAAB')])), ('FirstName', 'Timothy'), ('LastName', 'Mulqueen'), ('Email', 'timothy_mulqueen@mulqueen.org')]), OrderedDict([('attributes', OrderedDict([('type', 'Contact'), ('url', '/services/data/v57.0/sobjects/Contact/0035h00001Ioc6hAAB')])), ('FirstName', 'Viva'), ('LastName', 'Toelkes'), ('Email', 'viva.toelkes@gmail.com')]), OrderedDict([('attributes', OrderedDict([('type', 'Contact'), ('url', '/services/data/v57.0/sobjects/Contact/0035h00001Ioc6iAAB')])), ('FirstName', 'Elza'), ('LastName', 'Lipke'), ('Email', 'elza@yahoo.com')]), OrderedDict([('attributes', OrderedDict([('type', 'Contact'), ('url', '/services/data/v57.0/sobjects/Contact/0035h00001Ioc6lAAB')])), ('FirstName', 'Arlette'), ('LastName', 'Honeywell'), ('Email', 'ahoneywell@honeywell.com')]), OrderedDict([('attributes', OrderedDict([('type', 'Contact'), ('url', '/services/data/v57.0/sobjects/Contact/0035h00001Ioc6mAAB')])), ('FirstName', 'Dominque'), ('LastName', 'Dickerson'), ('Email', 'dominque.dickerson@dickerson.org')]), OrderedDict([('attributes', OrderedDict([('type', 'Contact'), ('url', '/services/data/v57.0/sobjects/Contact/0035h00001Ioc64AAB')])), ('FirstName', 'Kati'), ('LastName', 'Rulapaugh'), ('Email', 'kati.rulapaugh@hotmail.com')]), OrderedDict([('attributes', OrderedDict([('type', 'Contact'), ('url', '/services/data/v57.0/sobjects/Contact/0035h00001Ioc61AAB')])), ('FirstName', 'Jose'), ('LastName', 'Stockham'), ('Email', 'jose@yahoo.com')]), OrderedDict([('attributes', OrderedDict([('type', 'Contact'), ('url', '/services/data/v57.0/sobjects/Contact/0035h00001Ioc62AAB')])), ('FirstName', 'Rozella'), ('LastName', 'Ostrosky'), ('Email', 'rozella.ostrosky@ostrosky.com')]), OrderedDict([('attributes', OrderedDict([('type', 'Contact'), ('url', '/services/data/v57.0/sobjects/Contact/0035h00001Ioc63AAB')])), ('FirstName', 'Valentine'), ('LastName', 'Gillian'), ('Email', 'valentine_gillian@gmail.com')]), OrderedDict([('attributes', OrderedDict([('type', 'Contact'), ('url', '/services/data/v57.0/sobjects/Contact/0035h00001Ioc65AAB')])), ('FirstName', 'Youlanda'), ('LastName', 'Schemmer'), ('Email', 'youlanda@aol.com')]), OrderedDict([('attributes', OrderedDict([('type', 'Contact'), ('url', '/services/data/v57.0/sobjects/Contact/0035h00001Ioc66AAB')])), ('FirstName', 'Dyan'), ('LastName', 'Oldroyd'), ('Email', 'doldroyd@aol.com')]), OrderedDict([('attributes', OrderedDict([('type', 'Contact'), ('url', '/services/data/v57.0/sobjects/Contact/0035h00001Ioc67AAB')])), ('FirstName', 'Roxane'), ('LastName', 'Campain'), ('Email', 'roxane@hotmail.com')]), OrderedDict([('attributes', OrderedDict([('type', 'Contact'), ('url', '/services/data/v57.0/sobjects/Contact/0035h00001Ioc68AAB')])), ('FirstName', 'Lavera'), ('LastName', 'Perin'), ('Email', 'lperin@perin.org')]), OrderedDict([('attributes', OrderedDict([('type', 'Contact'), ('url', '/services/data/v57.0/sobjects/Contact/0035h00001Ioc69AAB')])), ('FirstName', 'Erick'), ('LastName', 'Ferencz'), ('Email', 'erick.ferencz@aol.com')]), OrderedDict([('attributes', OrderedDict([('type', 'Contact'), ('url', '/services/data/v57.0/sobjects/Contact/0035h00001Ioc6AAAR')])), ('FirstName', 'Fatima'), ('LastName', 'Saylors'), ('Email', 'fsaylors@saylors.org')]), OrderedDict([('attributes', OrderedDict([('type', 'Contact'), ('url', '/services/data/v57.0/sobjects/Contact/0035h00001Ioc6BAAR')])), ('FirstName', 'Jina'), ('LastName', 'Briddick'), ('Email', 'jina_briddick@briddick.com')]), OrderedDict([('attributes', OrderedDict([('type', 'Contact'), ('url', '/services/data/v57.0/sobjects/Contact/0035h00001Ioc6CAAR')])), ('FirstName', 'Kanisha'), ('LastName', 'Waycott'), ('Email', 'kanisha_waycott@yahoo.com')]), OrderedDict([('attributes', OrderedDict([('type', 'Contact'), ('url', '/services/data/v57.0/sobjects/Contact/0035h00001Ioc6DAAR')])), ('FirstName', 'Emerson'), ('LastName', 'Bowley'), ('Email', 'emerson.bowley@bowley.org')]), OrderedDict([('attributes', OrderedDict([('type', 'Contact'), ('url', '/services/data/v57.0/sobjects/Contact/0035h00001Ioc6nAAB')])), ('FirstName', 'Lettie'), ('LastName', 'Isenhower'), ('Email', 'lettie_isenhower@yahoo.com')]), OrderedDict([('attributes', OrderedDict([('type', 'Contact'), ('url', '/services/data/v57.0/sobjects/Contact/0035h00001Ioc6oAAB')])), ('FirstName', 'Myra'), ('LastName', 'Munns'), ('Email', 'mmunns@cox.net')]), OrderedDict([('attributes', OrderedDict([('type', 'Contact'), ('url', '/services/data/v57.0/sobjects/Contact/0035h00001Ioc6pAAB')])), ('FirstName', 'Stephaine'), ('LastName', 'Barfield'), ('Email', 'stephaine@barfield.com')]), OrderedDict([('attributes', OrderedDict([('type', 'Contact'), ('url', '/services/data/v57.0/sobjects/Contact/0035h00001Ioc6rAAB')])), ('FirstName', 'Stephen'), ('LastName', 'Emigh'), ('Email', 'stephen_emigh@hotmail.com')]), OrderedDict([('attributes', OrderedDict([('type', 'Contact'), ('url', '/services/data/v57.0/sobjects/Contact/0035h00001Ioc6sAAB')])), ('FirstName', 'Tyra'), ('LastName', 'Shields'), ('Email', 'tshields@gmail.com')]), OrderedDict([('attributes', OrderedDict([('type', 'Contact'), ('url', '/services/data/v57.0/sobjects/Contact/0035h00001Ioc6HAAR')])), ('FirstName', 'Sabra'), ('LastName', 'Uyetake'), ('Email', 'sabra@uyetake.org')]), OrderedDict([('attributes', OrderedDict([('type', 'Contact'), ('url', '/services/data/v57.0/sobjects/Contact/0035h00001Ioc6EAAR')])), ('FirstName', 'Blair'), ('LastName', 'Malet'), ('Email', 'bmalet@yahoo.com')]), OrderedDict([('attributes', OrderedDict([('type', 'Contact'), ('url', '/services/data/v57.0/sobjects/Contact/0035h00001Ioc6GAAR')])), ('FirstName', 'Lorrie'), ('LastName', 'Nestle'), ('Email', 'lnestle@hotmail.com')]), OrderedDict([('attributes', OrderedDict([('type', 'Contact'), ('url', '/services/data/v57.0/sobjects/Contact/0035h00001Ioc6IAAR')])), ('FirstName', 'Marjory'), ('LastName', 'Mastella'), ('Email', 'mmastella@mastella.com')]), OrderedDict([('attributes', OrderedDict([('type', 'Contact'), ('url', '/services/data/v57.0/sobjects/Contact/0035h00001Ioc6JAAR')])), ('FirstName', 'Karl'), ('LastName', 'Klonowski'), ('Email', 'karl_klonowski@yahoo.com')]), OrderedDict([('attributes', OrderedDict([('type', 'Contact'), ('url', '/services/data/v57.0/sobjects/Contact/0035h00001Ioc6xAAB')])), ('FirstName', 'Elvera'), ('LastName', 'Benimadho'), ('Email', 'elvera.benimadho@cox.net')]), OrderedDict([('attributes', OrderedDict([('type', 'Contact'), ('url', '/services/data/v57.0/sobjects/Contact/0035h00001Ioc6uAAB')])), ('FirstName', 'Cory'), ('LastName', 'Gibes'), ('Email', 'cory.gibes@gmail.com')]), OrderedDict([('attributes', OrderedDict([('type', 'Contact'), ('url', '/services/data/v57.0/sobjects/Contact/0035h00001Ioc6vAAB')])), ('FirstName', 'Danica'), ('LastName', 'Bruschke'), ('Email', 'danica_bruschke@gmail.com')]), OrderedDict([('attributes', OrderedDict([('type', 'Contact'), ('url', '/services/data/v57.0/sobjects/Contact/0035h00001Ioc6wAAB')])), ('FirstName', 'Wilda'), ('LastName', 'Giguere'), ('Email', 'wilda@cox.net')]), OrderedDict([('attributes', OrderedDict([('type', 'Contact'), ('url', '/services/data/v57.0/sobjects/Contact/0035h00001Ioc6yAAB')])), ('FirstName', 'Carma'), ('LastName', 'Vanheusen'), ('Email', 'carma@cox.net')]), OrderedDict([('attributes', OrderedDict([('type', 'Contact'), ('url', '/services/data/v57.0/sobjects/Contact/0035h00001Ioc6zAAB')])), ('FirstName', 'Malinda'), ('LastName', 'Hochard'), ('Email', 'malinda.hochard@yahoo.com')]), OrderedDict([('attributes', OrderedDict([('type', 'Contact'), ('url', '/services/data/v57.0/sobjects/Contact/0035h00001Ioc6NAAR')])), ('FirstName', 'Delmy'), ('LastName', 'Ahle'), ('Email', 'delmy.ahle@hotmail.com')]), OrderedDict([('attributes', OrderedDict([('type', 'Contact'), ('url', '/services/data/v57.0/sobjects/Contact/0035h00001Ioc6KAAR')])), ('FirstName', 'Tonette'), ('LastName', 'Wenner'), ('Email', 'twenner@aol.com')]), OrderedDict([('attributes', OrderedDict([('type', 'Contact'), ('url', '/services/data/v57.0/sobjects/Contact/0035h00001Ioc6LAAR')])), ('FirstName', 'Amber'), ('LastName', 'Monarrez'), ('Email', 'amber_monarrez@monarrez.org')]), OrderedDict([('attributes', OrderedDict([('type', 'Contact'), ('url', '/services/data/v57.0/sobjects/Contact/0035h00001Ioc6MAAR')])), ('FirstName', 'Shenika'), ('LastName', 'Seewald'), ('Email', 'shenika@gmail.com')]), OrderedDict([('attributes', OrderedDict([('type', 'Contact'), ('url', '/services/data/v57.0/sobjects/Contact/0035h00001Ioc6OAAR')])), ('FirstName', 'Deeanna'), ('LastName', 'Juhas'), ('Email', 'deeanna_juhas@gmail.com')]), OrderedDict([('attributes', OrderedDict([('type', 'Contact'), ('url', '/services/data/v57.0/sobjects/Contact/0035h00001Ioc6PAAR')])), ('FirstName', 'Blondell'), ('LastName', 'Pugh'), ('Email', 'bpugh@aol.com')]), OrderedDict([('attributes', OrderedDict([('type', 'Contact'), ('url', '/services/data/v57.0/sobjects/Contact/0035h00001Ioc6QAAR')])), ('FirstName', 'Jamal'), ('LastName', 'Vanausdal'), ('Email', 'jamal@vanausdal.org')]), OrderedDict([('attributes', OrderedDict([('type', 'Contact'), ('url', '/services/data/v57.0/sobjects/Contact/0035h00001Ioc6RAAR')])), ('FirstName', 'Cecily'), ('LastName', 'Hollack'), ('Email', 'cecily@hollack.org')]), OrderedDict([('attributes', OrderedDict([('type', 'Contact'), ('url', '/services/data/v57.0/sobjects/Contact/0035h00001Iodh7AAB')])), ('FirstName', 'harryyy'), ('LastName', 'nannn'), ('Email', 'harryy@xyz.com')]), OrderedDict([('attributes', OrderedDict([('type', 'Contact'), ('url', '/services/data/v57.0/sobjects/Contact/0035h00001Ioc70AAB')])), ('FirstName', 'Natalie'), ('LastName', 'Fern'), ('Email', 'natalie.fern@hotmail.com')]), OrderedDict([('attributes', OrderedDict([('type', 'Contact'), ('url', '/services/data/v57.0/sobjects/Contact/0035h00001Ioc71AAB')])), ('FirstName', 'Lisha'), ('LastName', 'Centini'), ('Email', 'lisha@centini.org')]), OrderedDict([('attributes', OrderedDict([('type', 'Contact'), ('url', '/services/data/v57.0/sobjects/Contact/0035h00001Iod6OAAR')])), ('FirstName', 'hhhh'), ('LastName', 'mmmm'), ('Email', 'hmm@gmail.com')])]\n"
     ]
    }
   ],
   "source": [
    "try:\n",
    "    # Query records updated in the last 5 minutes, excluding those updated by integration user\n",
    "    query = f\"SELECT FirstName, LastName, Email FROM Contact WHERE LastModifiedDate >= {last_time} AND LastModifiedDate <= {curr_time} AND LastModifiedById != '0055h00000ArxFcAAJ' limit 100\"\n",
    "\n",
    "    # Query records from Salesforce/\n",
    "    result = sf.query_all(query)\n",
    "\n",
    "    # Extract records from the query result\n",
    "    records = result.get(\"records\", [])\n",
    "\n",
    "    # Display the records\n",
    "    print(records)\n",
    "\n",
    "except Exception as e:\n",
    "    print(f\"An error occurred: {e}\")\n",
    "#2-3 secs"
   ]
  },
  {
   "cell_type": "code",
   "execution_count": 0,
   "metadata": {
    "application/vnd.databricks.v1+cell": {
     "cellMetadata": {
      "byteLimit": 2048000,
      "rowLimit": 10000
     },
     "inputWidgets": {},
     "nuid": "40b0431a-a9a0-4b8c-83e3-1b5f2c1a4dd6",
     "showTitle": false,
     "title": ""
    }
   },
   "outputs": [
    {
     "output_type": "display_data",
     "data": {
      "text/html": [
       "<style scoped>\n",
       "  .table-result-container {\n",
       "    max-height: 300px;\n",
       "    overflow: auto;\n",
       "  }\n",
       "  table, th, td {\n",
       "    border: 1px solid black;\n",
       "    border-collapse: collapse;\n",
       "  }\n",
       "  th, td {\n",
       "    padding: 5px;\n",
       "  }\n",
       "  th {\n",
       "    text-align: left;\n",
       "  }\n",
       "</style><div class='table-result-container'><table class='table-result'><thead style='background-color: white'><tr><th>email</th><th>firstname</th><th>lastname</th><th>ismodifiedbyintegration</th></tr></thead><tbody><tr><td>bcooper@biglytdics.net</td><td>neeraj1</td><td>Cooper133</td><td>True</td></tr><tr><td>bh@hubspot.com</td><td>Brian</td><td>Halligann(test)</td><td>True</td></tr><tr><td>fletcher.flosi@yahoo.com</td><td>Fletcher</td><td>Flosi</td><td>True</td></tr><tr><td>bette_nicka@cox.net</td><td>Bette</td><td>Nicka</td><td>True</td></tr><tr><td>vinouye@aol.com</td><td>Veronika</td><td>Inouye</td><td>True</td></tr><tr><td>willard@hotmail.com</td><td>Willard</td><td>Kolmetz</td><td>True</td></tr><tr><td>jbutt@gmail.com</td><td>James</td><td>Butt</td><td>True</td></tr><tr><td>josephine_darakjy@darakjy.org</td><td>Josephine</td><td>Darakjy</td><td>True</td></tr><tr><td>art@venere.org</td><td>Art</td><td>Venere</td><td>True</td></tr><tr><td>lpaprocki@hotmail.com</td><td>Lenna</td><td>Paprocki</td><td>True</td></tr><tr><td>donette.foller@cox.net</td><td>Donette</td><td>Foller</td><td>True</td></tr><tr><td>leota@hotmail.com</td><td>Leota</td><td>Dilliard</td><td>True</td></tr><tr><td>yuki_whobrey@aol.com</td><td>Yuki</td><td>Whobrey</td><td>True</td></tr><tr><td>sage_wieser@cox.net</td><td>Sage</td><td>Wieser</td><td>True</td></tr><tr><td>kris@gmail.com</td><td>Kris</td><td>Marrier</td><td>True</td></tr><tr><td>kiley.caldarera@aol.com</td><td>Kiley</td><td>Caldarera</td><td>True</td></tr><tr><td>gruta@cox.net</td><td>Graciela</td><td>Ruta</td><td>True</td></tr><tr><td>calbares@gmail.com</td><td>Cammy</td><td>Albares</td><td>True</td></tr><tr><td>carmelina_lindall@lindall.com</td><td>Carmelina</td><td>Lindall</td><td>True</td></tr><tr><td>maurine_yglesias@yglesias.com</td><td>Maurine</td><td>Yglesias</td><td>True</td></tr><tr><td>tawna@gmail.com</td><td>Tawna</td><td>Buvens</td><td>True</td></tr><tr><td>penney_weight@aol.com</td><td>Penney</td><td>Weight</td><td>True</td></tr><tr><td>bfigeroa@aol.com</td><td>Bernardo</td><td>Figeroa</td><td>True</td></tr><tr><td>mattie@aol.com</td><td>Mattie</td><td>Poquette</td><td>True</td></tr><tr><td>meaghan@hotmail.com</td><td>Meaghan</td><td>Garufi</td><td>True</td></tr><tr><td>gladys.rim@rim.org</td><td>Gladys</td><td>Rim</td><td>True</td></tr><tr><td>mroyster@royster.com</td><td>Maryann</td><td>Royster</td><td>True</td></tr><tr><td>alisha@slusarski.com</td><td>Alisha</td><td>Slusarski</td><td>True</td></tr><tr><td>allene_iturbide@cox.net</td><td>Allene</td><td>Iturbide</td><td>True</td></tr><tr><td>chanel.caudy@caudy.org</td><td>Chanel</td><td>Caudy</td><td>True</td></tr><tr><td>ezekiel@chui.com</td><td>Ezekiel</td><td>Chui</td><td>True</td></tr><tr><td>wkusko@yahoo.com</td><td>Willow</td><td>Kusko</td><td>True</td></tr><tr><td>kallie.blackwood@gmail.com</td><td>Kallie</td><td>Blackwood</td><td>True</td></tr><tr><td>elly_morocco@gmail.com</td><td>Elly</td><td>Morocco</td><td>True</td></tr><tr><td>ilene.eroman@hotmail.com</td><td>Ilene</td><td>Eroman</td><td>True</td></tr><tr><td>vmondella@mondella.com</td><td>Vallie</td><td>Mondella</td><td>True</td></tr><tr><td>johnetta_abdallah@aol.com</td><td>Johnetta</td><td>Abdallah</td><td>True</td></tr><tr><td>micaela_rhymes@gmail.com</td><td>Micaela</td><td>Rhymes</td><td>True</td></tr><tr><td>tamar@hotmail.com</td><td>Tamar</td><td>Hoogland</td><td>True</td></tr><tr><td>moon@yahoo.com</td><td>Moon</td><td>Parlato</td><td>True</td></tr><tr><td>delisa.crupi@crupi.com</td><td>Delisa</td><td>Crupi</td><td>True</td></tr><tr><td>albina@glick.com</td><td>Albina</td><td>Glick</td><td>True</td></tr><tr><td>ammie@corrio.com</td><td>Ammie</td><td>Corrio</td><td>True</td></tr><tr><td>francine_vocelka@vocelka.com</td><td>Francine</td><td>Vocelka</td><td>True</td></tr><tr><td>ernie_stenseth@aol.com</td><td>Ernie</td><td>Stenseth</td><td>True</td></tr><tr><td>asergi@gmail.com</td><td>Alishia</td><td>Sergi</td><td>True</td></tr><tr><td>solange@shinko.com</td><td>Solange</td><td>Shinko</td><td>True</td></tr><tr><td>timothy_mulqueen@mulqueen.org</td><td>Timothy</td><td>Mulqueen</td><td>True</td></tr><tr><td>viva.toelkes@gmail.com</td><td>Viva</td><td>Toelkes</td><td>True</td></tr><tr><td>elza@yahoo.com</td><td>Elza</td><td>Lipke</td><td>True</td></tr><tr><td>ahoneywell@honeywell.com</td><td>Arlette</td><td>Honeywell</td><td>True</td></tr><tr><td>dominque.dickerson@dickerson.org</td><td>Dominque</td><td>Dickerson</td><td>True</td></tr><tr><td>kati.rulapaugh@hotmail.com</td><td>Kati</td><td>Rulapaugh</td><td>True</td></tr><tr><td>jose@yahoo.com</td><td>Jose</td><td>Stockham</td><td>True</td></tr><tr><td>rozella.ostrosky@ostrosky.com</td><td>Rozella</td><td>Ostrosky</td><td>True</td></tr><tr><td>valentine_gillian@gmail.com</td><td>Valentine</td><td>Gillian</td><td>True</td></tr><tr><td>youlanda@aol.com</td><td>Youlanda</td><td>Schemmer</td><td>True</td></tr><tr><td>doldroyd@aol.com</td><td>Dyan</td><td>Oldroyd</td><td>True</td></tr><tr><td>roxane@hotmail.com</td><td>Roxane</td><td>Campain</td><td>True</td></tr><tr><td>lperin@perin.org</td><td>Lavera</td><td>Perin</td><td>True</td></tr><tr><td>erick.ferencz@aol.com</td><td>Erick</td><td>Ferencz</td><td>True</td></tr><tr><td>fsaylors@saylors.org</td><td>Fatima</td><td>Saylors</td><td>True</td></tr><tr><td>jina_briddick@briddick.com</td><td>Jina</td><td>Briddick</td><td>True</td></tr><tr><td>kanisha_waycott@yahoo.com</td><td>Kanisha</td><td>Waycott</td><td>True</td></tr><tr><td>emerson.bowley@bowley.org</td><td>Emerson</td><td>Bowley</td><td>True</td></tr><tr><td>lettie_isenhower@yahoo.com</td><td>Lettie</td><td>Isenhower</td><td>True</td></tr><tr><td>mmunns@cox.net</td><td>Myra</td><td>Munns</td><td>True</td></tr><tr><td>stephaine@barfield.com</td><td>Stephaine</td><td>Barfield</td><td>True</td></tr><tr><td>stephen_emigh@hotmail.com</td><td>Stephen</td><td>Emigh</td><td>True</td></tr><tr><td>tshields@gmail.com</td><td>Tyra</td><td>Shields</td><td>True</td></tr><tr><td>sabra@uyetake.org</td><td>Sabra</td><td>Uyetake</td><td>True</td></tr><tr><td>bmalet@yahoo.com</td><td>Blair</td><td>Malet</td><td>True</td></tr><tr><td>lnestle@hotmail.com</td><td>Lorrie</td><td>Nestle</td><td>True</td></tr><tr><td>mmastella@mastella.com</td><td>Marjory</td><td>Mastella</td><td>True</td></tr><tr><td>karl_klonowski@yahoo.com</td><td>Karl</td><td>Klonowski</td><td>True</td></tr><tr><td>elvera.benimadho@cox.net</td><td>Elvera</td><td>Benimadho</td><td>True</td></tr><tr><td>cory.gibes@gmail.com</td><td>Cory</td><td>Gibes</td><td>True</td></tr><tr><td>danica_bruschke@gmail.com</td><td>Danica</td><td>Bruschke</td><td>True</td></tr><tr><td>wilda@cox.net</td><td>Wilda</td><td>Giguere</td><td>True</td></tr><tr><td>carma@cox.net</td><td>Carma</td><td>Vanheusen</td><td>True</td></tr><tr><td>malinda.hochard@yahoo.com</td><td>Malinda</td><td>Hochard</td><td>True</td></tr><tr><td>delmy.ahle@hotmail.com</td><td>Delmy</td><td>Ahle</td><td>True</td></tr><tr><td>twenner@aol.com</td><td>Tonette</td><td>Wenner</td><td>True</td></tr><tr><td>amber_monarrez@monarrez.org</td><td>Amber</td><td>Monarrez</td><td>True</td></tr><tr><td>shenika@gmail.com</td><td>Shenika</td><td>Seewald</td><td>True</td></tr><tr><td>deeanna_juhas@gmail.com</td><td>Deeanna</td><td>Juhas</td><td>True</td></tr><tr><td>bpugh@aol.com</td><td>Blondell</td><td>Pugh</td><td>True</td></tr><tr><td>jamal@vanausdal.org</td><td>Jamal</td><td>Vanausdal</td><td>True</td></tr><tr><td>cecily@hollack.org</td><td>Cecily</td><td>Hollack</td><td>True</td></tr><tr><td>harryy@xyz.com</td><td>harryyy</td><td>nannn</td><td>True</td></tr><tr><td>natalie.fern@hotmail.com</td><td>Natalie</td><td>Fern</td><td>True</td></tr><tr><td>lisha@centini.org</td><td>Lisha</td><td>Centini</td><td>True</td></tr><tr><td>hmm@gmail.com</td><td>hhhh</td><td>mmmm</td><td>True</td></tr></tbody></table></div>"
      ]
     },
     "metadata": {
      "application/vnd.databricks.v1+output": {
       "addedWidgets": {},
       "aggData": [],
       "aggError": "",
       "aggOverflow": false,
       "aggSchema": [],
       "aggSeriesLimitReached": false,
       "aggType": "",
       "arguments": {},
       "columnCustomDisplayInfos": {},
       "data": [
        [
         "bcooper@biglytdics.net",
         "neeraj1",
         "Cooper133",
         "True"
        ],
        [
         "bh@hubspot.com",
         "Brian",
         "Halligann(test)",
         "True"
        ],
        [
         "fletcher.flosi@yahoo.com",
         "Fletcher",
         "Flosi",
         "True"
        ],
        [
         "bette_nicka@cox.net",
         "Bette",
         "Nicka",
         "True"
        ],
        [
         "vinouye@aol.com",
         "Veronika",
         "Inouye",
         "True"
        ],
        [
         "willard@hotmail.com",
         "Willard",
         "Kolmetz",
         "True"
        ],
        [
         "jbutt@gmail.com",
         "James",
         "Butt",
         "True"
        ],
        [
         "josephine_darakjy@darakjy.org",
         "Josephine",
         "Darakjy",
         "True"
        ],
        [
         "art@venere.org",
         "Art",
         "Venere",
         "True"
        ],
        [
         "lpaprocki@hotmail.com",
         "Lenna",
         "Paprocki",
         "True"
        ],
        [
         "donette.foller@cox.net",
         "Donette",
         "Foller",
         "True"
        ],
        [
         "leota@hotmail.com",
         "Leota",
         "Dilliard",
         "True"
        ],
        [
         "yuki_whobrey@aol.com",
         "Yuki",
         "Whobrey",
         "True"
        ],
        [
         "sage_wieser@cox.net",
         "Sage",
         "Wieser",
         "True"
        ],
        [
         "kris@gmail.com",
         "Kris",
         "Marrier",
         "True"
        ],
        [
         "kiley.caldarera@aol.com",
         "Kiley",
         "Caldarera",
         "True"
        ],
        [
         "gruta@cox.net",
         "Graciela",
         "Ruta",
         "True"
        ],
        [
         "calbares@gmail.com",
         "Cammy",
         "Albares",
         "True"
        ],
        [
         "carmelina_lindall@lindall.com",
         "Carmelina",
         "Lindall",
         "True"
        ],
        [
         "maurine_yglesias@yglesias.com",
         "Maurine",
         "Yglesias",
         "True"
        ],
        [
         "tawna@gmail.com",
         "Tawna",
         "Buvens",
         "True"
        ],
        [
         "penney_weight@aol.com",
         "Penney",
         "Weight",
         "True"
        ],
        [
         "bfigeroa@aol.com",
         "Bernardo",
         "Figeroa",
         "True"
        ],
        [
         "mattie@aol.com",
         "Mattie",
         "Poquette",
         "True"
        ],
        [
         "meaghan@hotmail.com",
         "Meaghan",
         "Garufi",
         "True"
        ],
        [
         "gladys.rim@rim.org",
         "Gladys",
         "Rim",
         "True"
        ],
        [
         "mroyster@royster.com",
         "Maryann",
         "Royster",
         "True"
        ],
        [
         "alisha@slusarski.com",
         "Alisha",
         "Slusarski",
         "True"
        ],
        [
         "allene_iturbide@cox.net",
         "Allene",
         "Iturbide",
         "True"
        ],
        [
         "chanel.caudy@caudy.org",
         "Chanel",
         "Caudy",
         "True"
        ],
        [
         "ezekiel@chui.com",
         "Ezekiel",
         "Chui",
         "True"
        ],
        [
         "wkusko@yahoo.com",
         "Willow",
         "Kusko",
         "True"
        ],
        [
         "kallie.blackwood@gmail.com",
         "Kallie",
         "Blackwood",
         "True"
        ],
        [
         "elly_morocco@gmail.com",
         "Elly",
         "Morocco",
         "True"
        ],
        [
         "ilene.eroman@hotmail.com",
         "Ilene",
         "Eroman",
         "True"
        ],
        [
         "vmondella@mondella.com",
         "Vallie",
         "Mondella",
         "True"
        ],
        [
         "johnetta_abdallah@aol.com",
         "Johnetta",
         "Abdallah",
         "True"
        ],
        [
         "micaela_rhymes@gmail.com",
         "Micaela",
         "Rhymes",
         "True"
        ],
        [
         "tamar@hotmail.com",
         "Tamar",
         "Hoogland",
         "True"
        ],
        [
         "moon@yahoo.com",
         "Moon",
         "Parlato",
         "True"
        ],
        [
         "delisa.crupi@crupi.com",
         "Delisa",
         "Crupi",
         "True"
        ],
        [
         "albina@glick.com",
         "Albina",
         "Glick",
         "True"
        ],
        [
         "ammie@corrio.com",
         "Ammie",
         "Corrio",
         "True"
        ],
        [
         "francine_vocelka@vocelka.com",
         "Francine",
         "Vocelka",
         "True"
        ],
        [
         "ernie_stenseth@aol.com",
         "Ernie",
         "Stenseth",
         "True"
        ],
        [
         "asergi@gmail.com",
         "Alishia",
         "Sergi",
         "True"
        ],
        [
         "solange@shinko.com",
         "Solange",
         "Shinko",
         "True"
        ],
        [
         "timothy_mulqueen@mulqueen.org",
         "Timothy",
         "Mulqueen",
         "True"
        ],
        [
         "viva.toelkes@gmail.com",
         "Viva",
         "Toelkes",
         "True"
        ],
        [
         "elza@yahoo.com",
         "Elza",
         "Lipke",
         "True"
        ],
        [
         "ahoneywell@honeywell.com",
         "Arlette",
         "Honeywell",
         "True"
        ],
        [
         "dominque.dickerson@dickerson.org",
         "Dominque",
         "Dickerson",
         "True"
        ],
        [
         "kati.rulapaugh@hotmail.com",
         "Kati",
         "Rulapaugh",
         "True"
        ],
        [
         "jose@yahoo.com",
         "Jose",
         "Stockham",
         "True"
        ],
        [
         "rozella.ostrosky@ostrosky.com",
         "Rozella",
         "Ostrosky",
         "True"
        ],
        [
         "valentine_gillian@gmail.com",
         "Valentine",
         "Gillian",
         "True"
        ],
        [
         "youlanda@aol.com",
         "Youlanda",
         "Schemmer",
         "True"
        ],
        [
         "doldroyd@aol.com",
         "Dyan",
         "Oldroyd",
         "True"
        ],
        [
         "roxane@hotmail.com",
         "Roxane",
         "Campain",
         "True"
        ],
        [
         "lperin@perin.org",
         "Lavera",
         "Perin",
         "True"
        ],
        [
         "erick.ferencz@aol.com",
         "Erick",
         "Ferencz",
         "True"
        ],
        [
         "fsaylors@saylors.org",
         "Fatima",
         "Saylors",
         "True"
        ],
        [
         "jina_briddick@briddick.com",
         "Jina",
         "Briddick",
         "True"
        ],
        [
         "kanisha_waycott@yahoo.com",
         "Kanisha",
         "Waycott",
         "True"
        ],
        [
         "emerson.bowley@bowley.org",
         "Emerson",
         "Bowley",
         "True"
        ],
        [
         "lettie_isenhower@yahoo.com",
         "Lettie",
         "Isenhower",
         "True"
        ],
        [
         "mmunns@cox.net",
         "Myra",
         "Munns",
         "True"
        ],
        [
         "stephaine@barfield.com",
         "Stephaine",
         "Barfield",
         "True"
        ],
        [
         "stephen_emigh@hotmail.com",
         "Stephen",
         "Emigh",
         "True"
        ],
        [
         "tshields@gmail.com",
         "Tyra",
         "Shields",
         "True"
        ],
        [
         "sabra@uyetake.org",
         "Sabra",
         "Uyetake",
         "True"
        ],
        [
         "bmalet@yahoo.com",
         "Blair",
         "Malet",
         "True"
        ],
        [
         "lnestle@hotmail.com",
         "Lorrie",
         "Nestle",
         "True"
        ],
        [
         "mmastella@mastella.com",
         "Marjory",
         "Mastella",
         "True"
        ],
        [
         "karl_klonowski@yahoo.com",
         "Karl",
         "Klonowski",
         "True"
        ],
        [
         "elvera.benimadho@cox.net",
         "Elvera",
         "Benimadho",
         "True"
        ],
        [
         "cory.gibes@gmail.com",
         "Cory",
         "Gibes",
         "True"
        ],
        [
         "danica_bruschke@gmail.com",
         "Danica",
         "Bruschke",
         "True"
        ],
        [
         "wilda@cox.net",
         "Wilda",
         "Giguere",
         "True"
        ],
        [
         "carma@cox.net",
         "Carma",
         "Vanheusen",
         "True"
        ],
        [
         "malinda.hochard@yahoo.com",
         "Malinda",
         "Hochard",
         "True"
        ],
        [
         "delmy.ahle@hotmail.com",
         "Delmy",
         "Ahle",
         "True"
        ],
        [
         "twenner@aol.com",
         "Tonette",
         "Wenner",
         "True"
        ],
        [
         "amber_monarrez@monarrez.org",
         "Amber",
         "Monarrez",
         "True"
        ],
        [
         "shenika@gmail.com",
         "Shenika",
         "Seewald",
         "True"
        ],
        [
         "deeanna_juhas@gmail.com",
         "Deeanna",
         "Juhas",
         "True"
        ],
        [
         "bpugh@aol.com",
         "Blondell",
         "Pugh",
         "True"
        ],
        [
         "jamal@vanausdal.org",
         "Jamal",
         "Vanausdal",
         "True"
        ],
        [
         "cecily@hollack.org",
         "Cecily",
         "Hollack",
         "True"
        ],
        [
         "harryy@xyz.com",
         "harryyy",
         "nannn",
         "True"
        ],
        [
         "natalie.fern@hotmail.com",
         "Natalie",
         "Fern",
         "True"
        ],
        [
         "lisha@centini.org",
         "Lisha",
         "Centini",
         "True"
        ],
        [
         "hmm@gmail.com",
         "hhhh",
         "mmmm",
         "True"
        ]
       ],
       "datasetInfos": [],
       "dbfsResultPath": null,
       "isJsonSchema": true,
       "metadata": {},
       "overflow": false,
       "plotOptions": {
        "customPlotOptions": {},
        "displayType": "table",
        "pivotAggregation": null,
        "pivotColumns": null,
        "xColumns": null,
        "yColumns": null
       },
       "removedWidgets": [],
       "schema": [
        {
         "metadata": "{}",
         "name": "email",
         "type": "\"string\""
        },
        {
         "metadata": "{}",
         "name": "firstname",
         "type": "\"string\""
        },
        {
         "metadata": "{}",
         "name": "lastname",
         "type": "\"string\""
        },
        {
         "metadata": "{}",
         "name": "ismodifiedbyintegration",
         "type": "\"string\""
        }
       ],
       "type": "table"
      }
     },
     "output_type": "display_data"
    }
   ],
   "source": [
    "try:\n",
    "    if records:\n",
    "        spark_df = spark.createDataFrame(records)\n",
    "\n",
    "        # Drop the 'attributes' column if it exists\n",
    "        if \"attributes\" in spark_df.columns:\n",
    "            spark_df = spark_df.drop(\"attributes\")\n",
    "\n",
    "        # Rename columns and add 'ismodifiedbyintegration' column\n",
    "        spark_df = (\n",
    "            spark_df.withColumnRenamed(\"FirstName\", \"firstname\")\n",
    "            .withColumnRenamed(\"LastName\", \"lastname\")\n",
    "            .withColumnRenamed(\"Email\", \"email\")\n",
    "            .withColumn(\"ismodifiedbyintegration\", lit(\"True\"))\n",
    "        )\n",
    "        display(spark_df)\n",
    "\n",
    "    else:\n",
    "        print(\"The 'records' list is empty.\")\n",
    "\n",
    "except Exception as e:\n",
    "    print(f\"An error occurred: {e}\")"
   ]
  },
  {
   "cell_type": "code",
   "execution_count": 0,
   "metadata": {
    "application/vnd.databricks.v1+cell": {
     "cellMetadata": {
      "byteLimit": 2048000,
      "rowLimit": 10000
     },
     "inputWidgets": {},
     "nuid": "1832b0ae-c1dc-47b3-b7d1-81373f9b362f",
     "showTitle": true,
     "title": "Writing to Hubspot"
    }
   },
   "outputs": [
    {
     "output_type": "stream",
     "name": "stdout",
     "output_type": "stream",
     "text": [
      "90\nUpdated Successfully\n{'inputs': [{'properties': {'email': 'aa@mai.com', 'firstname': 'aa', 'lastname': 'aa', 'ismodifiedbyintegration': 'True', 'hubspot_owner_id': '632129923'}}, {'properties': {'email': 'hsbh@mail.com', 'firstname': 'gsygd', 'lastname': 'hvch', 'ismodifiedbyintegration': 'True', 'hubspot_owner_id': '632129923'}}, {'properties': {'email': 'dhbdh@gmail.com', 'firstname': '566', 'lastname': 'hbdudduh', 'ismodifiedbyintegration': 'True', 'hubspot_owner_id': '632129923'}}, {'properties': {'email': 'dewang.agarwalcheck@metacube.com', 'firstname': 'Dewang', 'lastname': 'Joshi', 'ismodifiedbyintegration': 'True', 'hubspot_owner_id': '632129923'}}, {'properties': {'email': 'sampletest@mail.com', 'firstname': 'sammple', 'lastname': 'sammple', 'ismodifiedbyintegration': 'True', 'hubspot_owner_id': '632129923'}}, {'properties': {'email': 'aa@gmail.com', 'firstname': 'aabcjj234', 'lastname': 'aajcjcdj23454', 'ismodifiedbyintegration': 'True', 'hubspot_owner_id': '632129923'}}, {'properties': {'email': 'temp@mail.com', 'firstname': 'sample', 'lastname': 'tesmp', 'ismodifiedbyintegration': 'True', 'hubspot_owner_id': '632129923'}}, {'properties': {'email': 'qq@mail.com', 'firstname': 'qqqq', 'lastname': 'qq', 'ismodifiedbyintegration': 'True', 'hubspot_owner_id': '632129923'}}, {'properties': {'email': 'fletcher.flosi@yahoo.com', 'firstname': 'Fletcher', 'lastname': 'Flosi', 'ismodifiedbyintegration': 'True', 'hubspot_owner_id': '632129923'}}, {'properties': {'email': 'bette_nicka@cox.net', 'firstname': 'Bette', 'lastname': 'Nicka', 'ismodifiedbyintegration': 'True', 'hubspot_owner_id': '632129923'}}, {'properties': {'email': 'vinouye@aol.com', 'firstname': 'Veronika', 'lastname': 'Inouye', 'ismodifiedbyintegration': 'True', 'hubspot_owner_id': '632129923'}}, {'properties': {'email': 'willard@hotmail.com', 'firstname': 'Willard', 'lastname': 'Kolmetz', 'ismodifiedbyintegration': 'True', 'hubspot_owner_id': '632129923'}}, {'properties': {'email': 'jbutt@gmail.com', 'firstname': 'James', 'lastname': 'Butt', 'ismodifiedbyintegration': 'True', 'hubspot_owner_id': '632129923'}}, {'properties': {'email': 'josephine_darakjy@darakjy.org', 'firstname': 'Josephine', 'lastname': 'Darakjy', 'ismodifiedbyintegration': 'True', 'hubspot_owner_id': '632129923'}}, {'properties': {'email': 'art@venere.org', 'firstname': 'Art', 'lastname': 'Venere', 'ismodifiedbyintegration': 'True', 'hubspot_owner_id': '632129923'}}, {'properties': {'email': 'lpaprocki@hotmail.com', 'firstname': 'Lenna', 'lastname': 'Paprocki', 'ismodifiedbyintegration': 'True', 'hubspot_owner_id': '632129923'}}, {'properties': {'email': 'donette.foller@cox.net', 'firstname': 'Donette', 'lastname': 'Foller', 'ismodifiedbyintegration': 'True', 'hubspot_owner_id': '632129923'}}, {'properties': {'email': 'leota@hotmail.com', 'firstname': 'Leota', 'lastname': 'Dilliard', 'ismodifiedbyintegration': 'True', 'hubspot_owner_id': '632129923'}}, {'properties': {'email': 'mattie@aol.com', 'firstname': 'Mattie', 'lastname': 'Poquette', 'ismodifiedbyintegration': 'True', 'hubspot_owner_id': '632129923'}}, {'properties': {'email': 'meaghan@hotmail.com', 'firstname': 'Meaghan', 'lastname': 'Garufi', 'ismodifiedbyintegration': 'True', 'hubspot_owner_id': '632129923'}}, {'properties': {'email': 'gladys.rim@rim.org', 'firstname': 'Gladys', 'lastname': 'Rim', 'ismodifiedbyintegration': 'True', 'hubspot_owner_id': '632129923'}}, {'properties': {'email': 'yuki_whobrey@aol.com', 'firstname': 'Yuki', 'lastname': 'Whobrey', 'ismodifiedbyintegration': 'True', 'hubspot_owner_id': '632129923'}}, {'properties': {'email': 'sage_wieser@cox.net', 'firstname': 'Sage', 'lastname': 'Wieser', 'ismodifiedbyintegration': 'True', 'hubspot_owner_id': '632129923'}}, {'properties': {'email': 'kris@gmail.com', 'firstname': 'Kris', 'lastname': 'Marrier', 'ismodifiedbyintegration': 'True', 'hubspot_owner_id': '632129923'}}, {'properties': {'email': 'kiley.caldarera@aol.com', 'firstname': 'Kiley', 'lastname': 'Caldarera', 'ismodifiedbyintegration': 'True', 'hubspot_owner_id': '632129923'}}, {'properties': {'email': 'gruta@cox.net', 'firstname': 'Graciela', 'lastname': 'Ruta', 'ismodifiedbyintegration': 'True', 'hubspot_owner_id': '632129923'}}, {'properties': {'email': 'calbares@gmail.com', 'firstname': 'Cammy', 'lastname': 'Albares', 'ismodifiedbyintegration': 'True', 'hubspot_owner_id': '632129923'}}, {'properties': {'email': 'carmelina_lindall@lindall.com', 'firstname': 'Carmelina', 'lastname': 'Lindall', 'ismodifiedbyintegration': 'True', 'hubspot_owner_id': '632129923'}}, {'properties': {'email': 'maurine_yglesias@yglesias.com', 'firstname': 'Maurine', 'lastname': 'Yglesias', 'ismodifiedbyintegration': 'True', 'hubspot_owner_id': '632129923'}}, {'properties': {'email': 'tawna@gmail.com', 'firstname': 'Tawna', 'lastname': 'Buvens', 'ismodifiedbyintegration': 'True', 'hubspot_owner_id': '632129923'}}, {'properties': {'email': 'penney_weight@aol.com', 'firstname': 'Penney', 'lastname': 'Weight', 'ismodifiedbyintegration': 'True', 'hubspot_owner_id': '632129923'}}, {'properties': {'email': 'mroyster@royster.com', 'firstname': 'Maryann', 'lastname': 'Royster', 'ismodifiedbyintegration': 'True', 'hubspot_owner_id': '632129923'}}, {'properties': {'email': 'alisha@slusarski.com', 'firstname': 'Alisha', 'lastname': 'Slusarski', 'ismodifiedbyintegration': 'True', 'hubspot_owner_id': '632129923'}}, {'properties': {'email': 'allene_iturbide@cox.net', 'firstname': 'Allene', 'lastname': 'Iturbide', 'ismodifiedbyintegration': 'True', 'hubspot_owner_id': '632129923'}}, {'properties': {'email': 'chanel.caudy@caudy.org', 'firstname': 'Chanel', 'lastname': 'Caudy', 'ismodifiedbyintegration': 'True', 'hubspot_owner_id': '632129923'}}, {'properties': {'email': 'ezekiel@chui.com', 'firstname': 'Ezekiel', 'lastname': 'Chui', 'ismodifiedbyintegration': 'True', 'hubspot_owner_id': '632129923'}}, {'properties': {'email': 'wkusko@yahoo.com', 'firstname': 'Willow', 'lastname': 'Kusko', 'ismodifiedbyintegration': 'True', 'hubspot_owner_id': '632129923'}}, {'properties': {'email': 'bfigeroa@aol.com', 'firstname': 'Bernardo', 'lastname': 'Figeroa', 'ismodifiedbyintegration': 'True', 'hubspot_owner_id': '632129923'}}, {'properties': {'email': 'elly_morocco@gmail.com', 'firstname': 'Elly', 'lastname': 'Morocco', 'ismodifiedbyintegration': 'True', 'hubspot_owner_id': '632129923'}}, {'properties': {'email': 'ilene.eroman@hotmail.com', 'firstname': 'Ilene', 'lastname': 'Eroman', 'ismodifiedbyintegration': 'True', 'hubspot_owner_id': '632129923'}}, {'properties': {'email': 'vmondella@mondella.com', 'firstname': 'Vallie', 'lastname': 'Mondella', 'ismodifiedbyintegration': 'True', 'hubspot_owner_id': '632129923'}}, {'properties': {'email': 'kallie.blackwood@gmail.com', 'firstname': 'Kallie', 'lastname': 'Blackwood', 'ismodifiedbyintegration': 'True', 'hubspot_owner_id': '632129923'}}, {'properties': {'email': 'johnetta_abdallah@aol.com', 'firstname': 'Johnetta', 'lastname': 'Abdallah', 'ismodifiedbyintegration': 'True', 'hubspot_owner_id': '632129923'}}, {'properties': {'email': 'bdcjb@gmail.com', 'firstname': 'mnbus', 'lastname': 'ncuhu', 'ismodifiedbyintegration': 'True', 'hubspot_owner_id': '632129923'}}, {'properties': {'email': 'micaela_rhymes@gmail.com', 'firstname': 'Micaela', 'lastname': 'Rhymes', 'ismodifiedbyintegration': 'True', 'hubspot_owner_id': '632129923'}}, {'properties': {'email': 'tamar@hotmail.com', 'firstname': 'Tamar', 'lastname': 'Hoogland', 'ismodifiedbyintegration': 'True', 'hubspot_owner_id': '632129923'}}, {'properties': {'email': 'moon@yahoo.com', 'firstname': 'Moon', 'lastname': 'Parlato', 'ismodifiedbyintegration': 'True', 'hubspot_owner_id': '632129923'}}, {'properties': {'email': 'delisa.crupi@crupi.com', 'firstname': 'Delisa', 'lastname': 'Crupi', 'ismodifiedbyintegration': 'True', 'hubspot_owner_id': '632129923'}}, {'properties': {'email': 'ammie@corrio.com', 'firstname': 'Ammie', 'lastname': 'Corrio', 'ismodifiedbyintegration': 'True', 'hubspot_owner_id': '632129923'}}, {'properties': {'email': 'francine_vocelka@vocelka.com', 'firstname': 'Francine', 'lastname': 'Vocelka', 'ismodifiedbyintegration': 'True', 'hubspot_owner_id': '632129923'}}, {'properties': {'email': 'ernie_stenseth@aol.com', 'firstname': 'Ernie', 'lastname': 'Stenseth', 'ismodifiedbyintegration': 'True', 'hubspot_owner_id': '632129923'}}, {'properties': {'email': 'albina@glick.com', 'firstname': 'Albina', 'lastname': 'Glick', 'ismodifiedbyintegration': 'True', 'hubspot_owner_id': '632129923'}}, {'properties': {'email': 'asergi@gmail.com', 'firstname': 'Alishia', 'lastname': 'Sergi', 'ismodifiedbyintegration': 'True', 'hubspot_owner_id': '632129923'}}, {'properties': {'email': 'solange@shinko.com', 'firstname': 'Solange', 'lastname': 'Shinko', 'ismodifiedbyintegration': 'True', 'hubspot_owner_id': '632129923'}}, {'properties': {'email': 'viva.toelkes@gmail.com', 'firstname': 'Viva', 'lastname': 'Toelkes', 'ismodifiedbyintegration': 'True', 'hubspot_owner_id': '632129923'}}, {'properties': {'email': 'elza@yahoo.com', 'firstname': 'Elza', 'lastname': 'Lipke', 'ismodifiedbyintegration': 'True', 'hubspot_owner_id': '632129923'}}, {'properties': {'email': 'timothy_mulqueen@mulqueen.org', 'firstname': 'Timothy', 'lastname': 'Mulqueen', 'ismodifiedbyintegration': 'True', 'hubspot_owner_id': '632129923'}}, {'properties': {'email': 'ahoneywell@honeywell.com', 'firstname': 'Arlette', 'lastname': 'Honeywell', 'ismodifiedbyintegration': 'True', 'hubspot_owner_id': '632129923'}}, {'properties': {'email': 'dominque.dickerson@dickerson.org', 'firstname': 'Dominque', 'lastname': 'Dickerson', 'ismodifiedbyintegration': 'True', 'hubspot_owner_id': '632129923'}}, {'properties': {'email': 'jose@yahoo.com', 'firstname': 'Jose', 'lastname': 'Stockham', 'ismodifiedbyintegration': 'True', 'hubspot_owner_id': '632129923'}}, {'properties': {'email': 'rozella.ostrosky@ostrosky.com', 'firstname': 'Rozella', 'lastname': 'Ostrosky', 'ismodifiedbyintegration': 'True', 'hubspot_owner_id': '632129923'}}, {'properties': {'email': 'valentine_gillian@gmail.com', 'firstname': 'Valentine', 'lastname': 'Gillian', 'ismodifiedbyintegration': 'True', 'hubspot_owner_id': '632129923'}}, {'properties': {'email': 'kati.rulapaugh@hotmail.com', 'firstname': 'Kati', 'lastname': 'Rulapaugh', 'ismodifiedbyintegration': 'True', 'hubspot_owner_id': '632129923'}}, {'properties': {'email': 'youlanda@aol.com', 'firstname': 'Youlanda', 'lastname': 'Schemmer', 'ismodifiedbyintegration': 'True', 'hubspot_owner_id': '632129923'}}, {'properties': {'email': 'doldroyd@aol.com', 'firstname': 'Dyan', 'lastname': 'Oldroyd', 'ismodifiedbyintegration': 'True', 'hubspot_owner_id': '632129923'}}, {'properties': {'email': 'roxane@hotmail.com', 'firstname': 'Roxane', 'lastname': 'Campain', 'ismodifiedbyintegration': 'True', 'hubspot_owner_id': '632129923'}}, {'properties': {'email': 'lperin@perin.org', 'firstname': 'Lavera', 'lastname': 'Perin', 'ismodifiedbyintegration': 'True', 'hubspot_owner_id': '632129923'}}, {'properties': {'email': 'erick.ferencz@aol.com', 'firstname': 'Erick', 'lastname': 'Ferencz', 'ismodifiedbyintegration': 'True', 'hubspot_owner_id': '632129923'}}, {'properties': {'email': 'fsaylors@saylors.org', 'firstname': 'Fatima', 'lastname': 'Saylors', 'ismodifiedbyintegration': 'True', 'hubspot_owner_id': '632129923'}}, {'properties': {'email': 'jina_briddick@briddick.com', 'firstname': 'Jina', 'lastname': 'Briddick', 'ismodifiedbyintegration': 'True', 'hubspot_owner_id': '632129923'}}, {'properties': {'email': 'kanisha_waycott@yahoo.com', 'firstname': 'Kanisha', 'lastname': 'Waycott', 'ismodifiedbyintegration': 'True', 'hubspot_owner_id': '632129923'}}, {'properties': {'email': 'emerson.bowley@bowley.org', 'firstname': 'Emerson', 'lastname': 'Bowley', 'ismodifiedbyintegration': 'True', 'hubspot_owner_id': '632129923'}}, {'properties': {'email': 'lettie_isenhower@yahoo.com', 'firstname': 'Lettie', 'lastname': 'Isenhower', 'ismodifiedbyintegration': 'True', 'hubspot_owner_id': '632129923'}}, {'properties': {'email': 'mmunns@cox.net', 'firstname': 'Myra', 'lastname': 'Munns', 'ismodifiedbyintegration': 'True', 'hubspot_owner_id': '632129923'}}, {'properties': {'email': 'stephaine@barfield.com', 'firstname': 'Stephaine', 'lastname': 'Barfield', 'ismodifiedbyintegration': 'True', 'hubspot_owner_id': '632129923'}}, {'properties': {'email': 'stephen_emigh@hotmail.com', 'firstname': 'Stephen', 'lastname': 'Emigh', 'ismodifiedbyintegration': 'True', 'hubspot_owner_id': '632129923'}}, {'properties': {'email': 'tshields@gmail.com', 'firstname': 'Tyra', 'lastname': 'Shields', 'ismodifiedbyintegration': 'True', 'hubspot_owner_id': '632129923'}}, {'properties': {'email': 'bmalet@yahoo.com', 'firstname': 'Blair', 'lastname': 'Malet', 'ismodifiedbyintegration': 'True', 'hubspot_owner_id': '632129923'}}, {'properties': {'email': 'lnestle@hotmail.com', 'firstname': 'Lorrie', 'lastname': 'Nestle', 'ismodifiedbyintegration': 'True', 'hubspot_owner_id': '632129923'}}, {'properties': {'email': 'sabra@uyetake.org', 'firstname': 'Sabra', 'lastname': 'Uyetake', 'ismodifiedbyintegration': 'True', 'hubspot_owner_id': '632129923'}}, {'properties': {'email': 'mmastella@mastella.com', 'firstname': 'Marjory', 'lastname': 'Mastella', 'ismodifiedbyintegration': 'True', 'hubspot_owner_id': '632129923'}}, {'properties': {'email': 'karl_klonowski@yahoo.com', 'firstname': 'Karl', 'lastname': 'Klonowski', 'ismodifiedbyintegration': 'True', 'hubspot_owner_id': '632129923'}}, {'properties': {'email': 'cory.gibes@gmail.com', 'firstname': 'Cory', 'lastname': 'Gibes', 'ismodifiedbyintegration': 'True', 'hubspot_owner_id': '632129923'}}, {'properties': {'email': 'danica_bruschke@gmail.com', 'firstname': 'Danica', 'lastname': 'Bruschke', 'ismodifiedbyintegration': 'True', 'hubspot_owner_id': '632129923'}}, {'properties': {'email': 'wilda@cox.net', 'firstname': 'Wilda', 'lastname': 'Giguere', 'ismodifiedbyintegration': 'True', 'hubspot_owner_id': '632129923'}}, {'properties': {'email': 'elvera.benimadho@cox.net', 'firstname': 'Elvera', 'lastname': 'Benimadho', 'ismodifiedbyintegration': 'True', 'hubspot_owner_id': '632129923'}}, {'properties': {'email': 'carma@cox.net', 'firstname': 'Carma', 'lastname': 'Vanheusen', 'ismodifiedbyintegration': 'True', 'hubspot_owner_id': '632129923'}}, {'properties': {'email': 'malinda.hochard@yahoo.com', 'firstname': 'Malinda', 'lastname': 'Hochard', 'ismodifiedbyintegration': 'True', 'hubspot_owner_id': '632129923'}}, {'properties': {'email': 'twenner@aol.com', 'firstname': 'Tonette', 'lastname': 'Wenner', 'ismodifiedbyintegration': 'True', 'hubspot_owner_id': '632129923'}}, {'properties': {'email': 'amber_monarrez@monarrez.org', 'firstname': 'Amber', 'lastname': 'Monarrez', 'ismodifiedbyintegration': 'True', 'hubspot_owner_id': '632129923'}}]}\nCreated Successfully\n"
     ]
    }
   ],
   "source": [
    "try:\n",
    "    # Convert Spark DataFrame to JSON\n",
    "     #json_data = spark_df.toJSON().collect()\n",
    "     #json_list = [json.loads(json_str) for json_str in json_data]\n",
    "    json_list = (spark_df.withColumn(\"hubspot_owner_id\", lit(\"632129923\")).withColumn(\"properties\", struct(col(\"*\"))).select(\"properties\").toJSON().collect())\n",
    "    json_list = [json.loads(json_str) for json_str in json_list]\n",
    "\n",
    "    \n",
    "    email_df = spark_df.select(\"email\").rdd.flatMap(lambda x: x).collect()\n",
    "    # HubSpot API Configuration\n",
    "    api_url = \"https://api.hubapi.com/crm/v3/objects/contacts/search\"\n",
    "    access_token = \"pat-na1-f09a56ea-def1-404e-80f2-854ad3a753f1\"\n",
    "    headers = {\n",
    "        \"Authorization\": f\"Bearer {access_token}\",\n",
    "        \"Content-Type\": \"application/json\",\n",
    "    }\n",
    "\n",
    "    # HubSpot API Request Body\n",
    "    body = {\n",
    "        \"properties\": [\"firstname\", \"lastname\", \"email\"],\n",
    "        \"filterGroups\": [\n",
    "            {\n",
    "                \"filters\": [\n",
    "                    {\n",
    "                        \"propertyName\": \"email\",\n",
    "                        \"operator\": \"IN\",\n",
    "                        \"values\": email_df,\n",
    "                    },\n",
    "                ]\n",
    "            }\n",
    "        ],\n",
    "    }\n",
    "\n",
    "    # Send request to HubSpot API\n",
    "    response = requests.post(api_url, headers=headers, json=body)\n",
    "    if response.status_code == 200 or response.status_code == 201:\n",
    "        if int(response.json()[\"total\"]) >= 1:\n",
    "\n",
    "            # Parse JSON response\n",
    "            sample_df = spark.createDataFrame(response.json()[\"results\"])\n",
    "            # display(len(sample_df))\n",
    "\n",
    "            hubspot_api_email_list = sample_df.select(\n",
    "                col(\"properties.email\").alias(\"email\"),\n",
    "                col(\"properties.hs_object_id\").alias(\"id\"),\n",
    "            )\n",
    "\n",
    "            # Filter DataFrames based on email presence\n",
    "            df_with_email = spark_df.filter(\n",
    "                col(\"email\").isin(\n",
    "                    hubspot_api_email_list.select(\"email\")\n",
    "                    .rdd.flatMap(lambda x: x)\n",
    "                    .collect()\n",
    "                )\n",
    "            )\n",
    "            df_without_email = spark_df.filter(\n",
    "                ~col(\"email\").isin(\n",
    "                    hubspot_api_email_list.select(\"email\")\n",
    "                    .rdd.flatMap(lambda x: x)\n",
    "                    .collect()\n",
    "                )\n",
    "            )\n",
    "            print(df_without_email.count())\n",
    "            \n",
    "            try:\n",
    "                # Update existing contacts\n",
    "                update_url = (\n",
    "                    \"https://api.hubapi.com/crm/v3/objects/contacts/batch/update\"\n",
    "                )\n",
    "                update_list = (\n",
    "                    df_with_email.withColumn(\"hubspot_owner_id\", lit(\"632129923\"))\n",
    "                    .withColumn(\"properties\", struct(col(\"*\")))\n",
    "                    .join(\n",
    "                        hubspot_api_email_list,\n",
    "                        df_with_email[\"email\"] == hubspot_api_email_list[\"email\"],\n",
    "                    )\n",
    "                    .select(\"id\", \"properties\")\n",
    "                    .toJSON()\n",
    "                    .collect()\n",
    "                )\n",
    "                hubspot_update_list = [json.loads(json_str) for json_str in update_list]\n",
    "                hubspot_update_list = {\"inputs\": hubspot_update_list}\n",
    "                response_update = requests.post(\n",
    "                    update_url, json=hubspot_update_list, headers=headers\n",
    "                )\n",
    "                print(\"Updated Successfully\")\n",
    "\n",
    "            except Exception as update_error:\n",
    "                print(f\"Update error: {update_error}\") \n",
    "\n",
    "            if(df_without_email.count()>=1):\n",
    "                \n",
    "                try:\n",
    "                    # Create new contacts\n",
    "                    create_url = (\n",
    "                        \"https://api.hubapi.com/crm/v3/objects/contacts/batch/create\"\n",
    "                    )\n",
    "                    create_list = (\n",
    "                        df_without_email.withColumn(\"hubspot_owner_id\", lit(\"632129923\"))\n",
    "                        .withColumn(\"properties\", struct(col(\"*\")))\n",
    "                        .select(\"properties\")\n",
    "                        .toJSON()\n",
    "                        .collect()\n",
    "                    )\n",
    "                    hubspot_create_list = [json.loads(json_str) for json_str in create_list]\n",
    "                    hubspot_create_list = {\"inputs\": hubspot_create_list}\n",
    "                    print(hubspot_create_list)\n",
    "                    response_create = requests.post(\n",
    "                        create_url, json=hubspot_create_list, headers=headers\n",
    "                    )\n",
    "                    print(\"Created Successfully\")\n",
    "\n",
    "                except Exception as create_error:\n",
    "                    print(f\"Create error: {create_error}\")\n",
    "                \n",
    "\n",
    "\n",
    "        elif int(response.json()[\"total\"]) == 0:\n",
    "            try:\n",
    "\n",
    "                create_url = (\n",
    "                    \"https://api.hubapi.com/crm/v3/objects/contacts/batch/create\"\n",
    "                )\n",
    "\n",
    "                create_list = {\"inputs\": json_list}\n",
    "                print(create_list)\n",
    "                response_create = requests.post(\n",
    "                    create_url, json=create_list, headers=headers\n",
    "                )\n",
    "                print(response_create.status_code)\n",
    "                print(\"Created Successfully\")\n",
    "\n",
    "            except Exception as create_error:\n",
    "                print(f\"Create error: {create_error}\")\n",
    "    else:\n",
    "        # Print an error message if the request was not successful\n",
    "        print(f\"Error: {response.status_code} - {response.text}\")\n",
    "\n",
    "except Exception as e:\n",
    "    print(f\"An error occurred: {e}\")\n",
    "#creation = 6.18 sec\n",
    "#updation = 13.58 sec"
   ]
  },
  {
   "cell_type": "code",
   "execution_count": 0,
   "metadata": {
    "application/vnd.databricks.v1+cell": {
     "cellMetadata": {
      "byteLimit": 2048000,
      "rowLimit": 10000
     },
     "inputWidgets": {},
     "nuid": "3d4eca61-4eb3-4708-946c-72111fff19a3",
     "showTitle": false,
     "title": ""
    }
   },
   "outputs": [],
   "source": [
    "curr_time = datetime.now()\n",
    "last_time = datetime.now() - timedelta(hours=100)\n",
    "curr_time_hubspot = curr_time.strftime(\"%Y-%m-%dT%H:%M:%S.%fZ\")\n",
    "last_time_hubspot = last_time.strftime(\"%Y-%m-%dT%H:%M:%S.%fZ\")"
   ]
  },
  {
   "cell_type": "code",
   "execution_count": 0,
   "metadata": {
    "application/vnd.databricks.v1+cell": {
     "cellMetadata": {
      "byteLimit": 2048000,
      "rowLimit": 10000
     },
     "inputWidgets": {},
     "nuid": "11c2e977-0a1c-4d98-bf63-db0eae68c1e2",
     "showTitle": true,
     "title": "Reading Data from Hubspot."
    }
   },
   "outputs": [
    {
     "output_type": "display_data",
     "data": {
      "text/html": [
       "<style scoped>\n",
       "  .table-result-container {\n",
       "    max-height: 300px;\n",
       "    overflow: auto;\n",
       "  }\n",
       "  table, th, td {\n",
       "    border: 1px solid black;\n",
       "    border-collapse: collapse;\n",
       "  }\n",
       "  th, td {\n",
       "    padding: 5px;\n",
       "  }\n",
       "  th {\n",
       "    text-align: left;\n",
       "  }\n",
       "</style><div class='table-result-container'><table class='table-result'><thead style='background-color: white'><tr><th>archived</th><th>createdAt</th><th>id</th><th>properties</th><th>updatedAt</th></tr></thead><tbody><tr><td>false</td><td>2023-12-01T15:24:42.461Z</td><td>51</td><td>Map(email -> bh@hubspot.com, createdate -> 2023-12-01T15:24:42.461Z, firstname -> Brian, ismodifiedbyintegration -> True, hs_object_id -> 51, lastname -> Halligann(test), lastmodifieddate -> 2023-12-05T10:14:40.470Z)</td><td>2023-12-05T10:14:40.470Z</td></tr><tr><td>false</td><td>2023-12-01T15:27:44.428Z</td><td>551</td><td>Map(email -> a_young@dickenson.com, createdate -> 2023-12-01T15:27:44.428Z, firstname -> Andys, ismodifiedbyintegration -> True, hs_object_id -> 551, lastname -> Young331, lastmodifieddate -> 2023-12-04T17:31:10.381Z)</td><td>2023-12-04T17:31:10.381Z</td></tr><tr><td>false</td><td>2023-12-01T15:27:51.884Z</td><td>1051</td><td>Map(email -> bcooper@biglytdics.net, createdate -> 2023-12-01T15:27:51.884Z, firstname -> neeraj1, ismodifiedbyintegration -> True, hs_object_id -> 1051, lastname -> Cooper133, lastmodifieddate -> 2023-12-05T10:14:40.470Z)</td><td>2023-12-05T10:14:40.470Z</td></tr><tr><td>false</td><td>2023-12-01T15:27:54.324Z</td><td>1201</td><td>Map(email -> pritsuthar.dev@gmail.com, createdate -> 2023-12-01T15:27:54.324Z, firstname -> Jerryyy, ismodifiedbyintegration -> True, hs_object_id -> 1201, lastname -> Kumar2, lastmodifieddate -> 2023-12-04T13:00:32.642Z)</td><td>2023-12-04T13:00:32.642Z</td></tr><tr><td>false</td><td>2023-12-03T13:35:57.444Z</td><td>2551</td><td>Map(email -> zasw@mkoyt.com, createdate -> 2023-12-03T13:35:57.444Z, firstname -> aaavvsy, ismodifiedbyintegration -> True, hs_object_id -> 2551, lastname -> aaa, lastmodifieddate -> 2023-12-05T04:54:29.445Z)</td><td>2023-12-05T04:54:29.445Z</td></tr><tr><td>false</td><td>2023-12-04T13:11:10.284Z</td><td>2801</td><td>Map(email -> afzal@xyz.com, createdate -> 2023-12-04T13:11:10.284Z, firstname -> afzal, ismodifiedbyintegration -> True, hs_object_id -> 2801, lastname -> khan, lastmodifieddate -> 2023-12-04T13:11:15.511Z)</td><td>2023-12-04T13:11:15.511Z</td></tr><tr><td>false</td><td>2023-12-04T13:44:19.875Z</td><td>3051</td><td>Map(email -> bs26@gac.com, createdate -> 2023-12-04T13:44:19.875Z, firstname -> qwert42, ismodifiedbyintegration -> True, hs_object_id -> 3051, lastname -> uyytrewq32, lastmodifieddate -> 2023-12-04T13:44:25.176Z)</td><td>2023-12-04T13:44:25.176Z</td></tr><tr><td>false</td><td>2023-12-04T13:50:09.495Z</td><td>3101</td><td>Map(email -> jcdhcdhujhu@mail.com, createdate -> 2023-12-04T13:50:09.495Z, firstname -> ndnj, ismodifiedbyintegration -> True, hs_object_id -> 3101, lastname -> dcd, lastmodifieddate -> 2023-12-04T13:50:21.351Z)</td><td>2023-12-04T13:50:21.351Z</td></tr><tr><td>false</td><td>2023-12-04T17:01:19.265Z</td><td>3151</td><td>Map(email -> sdew21@m.com, createdate -> 2023-12-04T17:01:19.265Z, firstname -> wsxc21, ismodifiedbyintegration -> True, hs_object_id -> 3151, lastname -> wsaxc21, lastmodifieddate -> 2023-12-04T17:01:36.811Z)</td><td>2023-12-04T17:01:36.811Z</td></tr><tr><td>false</td><td>2023-12-04T17:25:55.672Z</td><td>3201</td><td>Map(email -> testitesting@mca.com, createdate -> 2023-12-04T17:25:55.672Z, firstname -> finallly testing, ismodifiedbyintegration -> True, hs_object_id -> 3201, lastname -> testing2, lastmodifieddate -> 2023-12-04T17:41:10.873Z)</td><td>2023-12-04T17:41:10.873Z</td></tr><tr><td>false</td><td>2023-12-05T04:54:30.608Z</td><td>3301</td><td>Map(email -> aaa@gmail.com, createdate -> 2023-12-05T04:54:30.608Z, firstname -> aaaaaaaaaa23, ismodifiedbyintegration -> True, hs_object_id -> 3301, lastname -> aaaaaaaaaaa23, lastmodifieddate -> 2023-12-05T05:21:10.098Z)</td><td>2023-12-05T05:21:10.098Z</td></tr><tr><td>false</td><td>2023-12-05T04:54:30.608Z</td><td>3302</td><td>Map(email -> nidhcudhcud@jdu.com, createdate -> 2023-12-05T04:54:30.608Z, firstname -> babsau, ismodifiedbyintegration -> True, hs_object_id -> 3302, lastname -> kjihsu, lastmodifieddate -> 2023-12-05T04:54:45.724Z)</td><td>2023-12-05T04:54:45.724Z</td></tr><tr><td>false</td><td>2023-12-05T05:11:35.131Z</td><td>3351</td><td>Map(email -> mnm@xyy.com, createdate -> 2023-12-05T05:11:35.131Z, firstname -> mnm, ismodifiedbyintegration -> True, hs_object_id -> 3351, lastname -> cds, lastmodifieddate -> 2023-12-05T05:11:49.207Z)</td><td>2023-12-05T05:11:49.207Z</td></tr><tr><td>false</td><td>2023-12-05T05:21:11.284Z</td><td>3601</td><td>Map(email -> aa@gmail.com, createdate -> 2023-12-05T05:21:11.284Z, firstname -> aabcjj234, ismodifiedbyintegration -> True, hs_object_id -> 3601, lastname -> aajcjcdj23454, lastmodifieddate -> 2023-12-05T05:21:29.598Z)</td><td>2023-12-05T05:21:29.598Z</td></tr><tr><td>false</td><td>2023-12-05T05:32:29.114Z</td><td>3701</td><td>Map(email -> temp@mail.com, createdate -> 2023-12-05T05:32:29.114Z, firstname -> sample, ismodifiedbyintegration -> True, hs_object_id -> 3701, lastname -> tesmp, lastmodifieddate -> 2023-12-05T05:32:42.270Z)</td><td>2023-12-05T05:32:42.270Z</td></tr><tr><td>false</td><td>2023-12-05T05:38:37.148Z</td><td>3751</td><td>Map(email -> bdcjb@gmail.com, createdate -> 2023-12-05T05:38:37.148Z, firstname -> mnbus, ismodifiedbyintegration -> True, hs_object_id -> 3751, lastname -> ncuhu, lastmodifieddate -> 2023-12-05T05:38:47.317Z)</td><td>2023-12-05T05:38:47.317Z</td></tr><tr><td>false</td><td>2023-12-05T05:38:37.148Z</td><td>3752</td><td>Map(email -> hsbh@mail.com, createdate -> 2023-12-05T05:38:37.148Z, firstname -> gsygd, ismodifiedbyintegration -> True, hs_object_id -> 3752, lastname -> hvch, lastmodifieddate -> 2023-12-05T05:38:47.086Z)</td><td>2023-12-05T05:38:47.086Z</td></tr><tr><td>false</td><td>2023-12-05T05:55:36.162Z</td><td>3801</td><td>Map(email -> aa@mai.com, createdate -> 2023-12-05T05:55:36.162Z, firstname -> aa, ismodifiedbyintegration -> True, hs_object_id -> 3801, lastname -> aa, lastmodifieddate -> 2023-12-05T05:55:53.031Z)</td><td>2023-12-05T05:55:53.031Z</td></tr><tr><td>false</td><td>2023-12-05T05:57:22.217Z</td><td>3901</td><td>Map(email -> qq@mail.com, createdate -> 2023-12-05T05:57:22.217Z, firstname -> qqqq, ismodifiedbyintegration -> True, hs_object_id -> 3901, lastname -> qq, lastmodifieddate -> 2023-12-05T05:57:44.283Z)</td><td>2023-12-05T05:57:44.283Z</td></tr><tr><td>false</td><td>2023-12-05T07:23:09.812Z</td><td>3961</td><td>Map(email -> maurine_yglesias@yglesias.com, createdate -> 2023-12-05T07:23:09.812Z, firstname -> Maurine, ismodifiedbyintegration -> True, hs_object_id -> 3961, lastname -> Yglesias, lastmodifieddate -> 2023-12-05T10:03:47.207Z)</td><td>2023-12-05T10:03:47.207Z</td></tr><tr><td>false</td><td>2023-12-05T07:23:09.812Z</td><td>3962</td><td>Map(email -> wkusko@yahoo.com, createdate -> 2023-12-05T07:23:09.812Z, firstname -> Willow, ismodifiedbyintegration -> True, hs_object_id -> 3962, lastname -> Kusko, lastmodifieddate -> 2023-12-05T10:03:47.207Z)</td><td>2023-12-05T10:03:47.207Z</td></tr><tr><td>false</td><td>2023-12-05T07:23:09.812Z</td><td>3963</td><td>Map(email -> viva.toelkes@gmail.com, createdate -> 2023-12-05T07:23:09.812Z, firstname -> Viva, ismodifiedbyintegration -> True, hs_object_id -> 3963, lastname -> Toelkes, lastmodifieddate -> 2023-12-05T10:03:47.207Z)</td><td>2023-12-05T10:03:47.207Z</td></tr><tr><td>false</td><td>2023-12-05T07:23:09.812Z</td><td>3964</td><td>Map(email -> wilda@cox.net, createdate -> 2023-12-05T07:23:09.812Z, firstname -> Wilda, ismodifiedbyintegration -> True, hs_object_id -> 3964, lastname -> Giguere, lastmodifieddate -> 2023-12-05T10:03:47.207Z)</td><td>2023-12-05T10:03:47.207Z</td></tr><tr><td>false</td><td>2023-12-05T07:23:09.812Z</td><td>3965</td><td>Map(email -> elvera.benimadho@cox.net, createdate -> 2023-12-05T07:23:09.812Z, firstname -> Elvera, ismodifiedbyintegration -> True, hs_object_id -> 3965, lastname -> Benimadho, lastmodifieddate -> 2023-12-05T10:03:47.207Z)</td><td>2023-12-05T10:03:47.207Z</td></tr><tr><td>false</td><td>2023-12-05T07:23:09.812Z</td><td>3966</td><td>Map(email -> vmondella@mondella.com, createdate -> 2023-12-05T07:23:09.812Z, firstname -> Vallie, ismodifiedbyintegration -> True, hs_object_id -> 3966, lastname -> Mondella, lastmodifieddate -> 2023-12-05T10:03:47.207Z)</td><td>2023-12-05T10:03:47.207Z</td></tr><tr><td>false</td><td>2023-12-05T07:23:09.812Z</td><td>3967</td><td>Map(email -> mmastella@mastella.com, createdate -> 2023-12-05T07:23:09.812Z, firstname -> Marjory, ismodifiedbyintegration -> True, hs_object_id -> 3967, lastname -> Mastella, lastmodifieddate -> 2023-12-05T10:03:47.207Z)</td><td>2023-12-05T10:03:47.207Z</td></tr><tr><td>false</td><td>2023-12-05T07:23:09.812Z</td><td>3968</td><td>Map(email -> bmalet@yahoo.com, createdate -> 2023-12-05T07:23:09.812Z, firstname -> Blair, ismodifiedbyintegration -> True, hs_object_id -> 3968, lastname -> Malet, lastmodifieddate -> 2023-12-05T10:03:47.207Z)</td><td>2023-12-05T10:03:47.207Z</td></tr><tr><td>false</td><td>2023-12-05T07:23:09.812Z</td><td>3969</td><td>Map(email -> moon@yahoo.com, createdate -> 2023-12-05T07:23:09.812Z, firstname -> Moon, ismodifiedbyintegration -> True, hs_object_id -> 3969, lastname -> Parlato, lastmodifieddate -> 2023-12-05T10:03:47.207Z)</td><td>2023-12-05T10:03:47.207Z</td></tr><tr><td>false</td><td>2023-12-05T07:23:09.812Z</td><td>3970</td><td>Map(email -> elly_morocco@gmail.com, createdate -> 2023-12-05T07:23:09.812Z, firstname -> Elly, ismodifiedbyintegration -> True, hs_object_id -> 3970, lastname -> Morocco, lastmodifieddate -> 2023-12-05T10:03:47.207Z)</td><td>2023-12-05T10:03:47.207Z</td></tr><tr><td>false</td><td>2023-12-05T07:23:09.812Z</td><td>3971</td><td>Map(email -> kiley.caldarera@aol.com, createdate -> 2023-12-05T07:23:09.812Z, firstname -> Kiley, ismodifiedbyintegration -> True, hs_object_id -> 3971, lastname -> Caldarera, lastmodifieddate -> 2023-12-05T07:23:16.512Z)</td><td>2023-12-05T07:23:16.512Z</td></tr><tr><td>false</td><td>2023-12-05T07:23:09.812Z</td><td>3972</td><td>Map(email -> carmelina_lindall@lindall.com, createdate -> 2023-12-05T07:23:09.812Z, firstname -> Carmelina, ismodifiedbyintegration -> True, hs_object_id -> 3972, lastname -> Lindall, lastmodifieddate -> 2023-12-05T07:23:28.758Z)</td><td>2023-12-05T07:23:28.758Z</td></tr><tr><td>false</td><td>2023-12-05T07:23:09.812Z</td><td>3973</td><td>Map(email -> ernie_stenseth@aol.com, createdate -> 2023-12-05T07:23:09.812Z, firstname -> Ernie, ismodifiedbyintegration -> True, hs_object_id -> 3973, lastname -> Stenseth, lastmodifieddate -> 2023-12-05T07:23:24.729Z)</td><td>2023-12-05T07:23:24.729Z</td></tr><tr><td>false</td><td>2023-12-05T07:23:09.812Z</td><td>3974</td><td>Map(email -> tshields@gmail.com, createdate -> 2023-12-05T07:23:09.812Z, firstname -> Tyra, ismodifiedbyintegration -> True, hs_object_id -> 3974, lastname -> Shields, lastmodifieddate -> 2023-12-05T07:38:15.540Z)</td><td>2023-12-05T07:38:15.540Z</td></tr><tr><td>false</td><td>2023-12-05T07:23:09.812Z</td><td>3975</td><td>Map(email -> bpugh@aol.com, createdate -> 2023-12-05T07:23:09.812Z, firstname -> Blondell, ismodifiedbyintegration -> True, hs_object_id -> 3975, lastname -> Pugh, lastmodifieddate -> 2023-12-05T07:23:21.807Z)</td><td>2023-12-05T07:23:21.807Z</td></tr><tr><td>false</td><td>2023-12-05T07:23:09.812Z</td><td>3976</td><td>Map(email -> kris@gmail.com, createdate -> 2023-12-05T07:23:09.812Z, firstname -> Kris, ismodifiedbyintegration -> True, hs_object_id -> 3976, lastname -> Marrier, lastmodifieddate -> 2023-12-05T07:38:26.584Z)</td><td>2023-12-05T07:38:26.584Z</td></tr><tr><td>false</td><td>2023-12-05T07:23:09.812Z</td><td>3977</td><td>Map(email -> calbares@gmail.com, createdate -> 2023-12-05T07:23:09.812Z, firstname -> Cammy, ismodifiedbyintegration -> True, hs_object_id -> 3977, lastname -> Albares, lastmodifieddate -> 2023-12-05T07:38:28.520Z)</td><td>2023-12-05T07:38:28.520Z</td></tr><tr><td>false</td><td>2023-12-05T07:23:09.812Z</td><td>3978</td><td>Map(email -> lisha@centini.org, createdate -> 2023-12-05T07:23:09.812Z, firstname -> Lisha, ismodifiedbyintegration -> True, hs_object_id -> 3978, lastname -> Centini, lastmodifieddate -> 2023-12-05T07:23:24.575Z)</td><td>2023-12-05T07:23:24.575Z</td></tr><tr><td>false</td><td>2023-12-05T07:23:09.812Z</td><td>3979</td><td>Map(email -> bfigeroa@aol.com, createdate -> 2023-12-05T07:23:09.812Z, firstname -> Bernardo, ismodifiedbyintegration -> True, hs_object_id -> 3979, lastname -> Figeroa, lastmodifieddate -> 2023-12-05T07:23:23.234Z)</td><td>2023-12-05T07:23:23.234Z</td></tr><tr><td>false</td><td>2023-12-05T07:23:09.812Z</td><td>3980</td><td>Map(email -> cory.gibes@gmail.com, createdate -> 2023-12-05T07:23:09.812Z, firstname -> Cory, ismodifiedbyintegration -> True, hs_object_id -> 3980, lastname -> Gibes, lastmodifieddate -> 2023-12-05T07:23:16.649Z)</td><td>2023-12-05T07:23:16.649Z</td></tr><tr><td>false</td><td>2023-12-05T07:23:09.812Z</td><td>3981</td><td>Map(email -> valentine_gillian@gmail.com, createdate -> 2023-12-05T07:23:09.812Z, firstname -> Valentine, ismodifiedbyintegration -> True, hs_object_id -> 3981, lastname -> Gillian, lastmodifieddate -> 2023-12-05T07:23:26.544Z)</td><td>2023-12-05T07:23:26.544Z</td></tr><tr><td>false</td><td>2023-12-05T07:23:09.812Z</td><td>3982</td><td>Map(email -> meaghan@hotmail.com, createdate -> 2023-12-05T07:23:09.812Z, firstname -> Meaghan, ismodifiedbyintegration -> True, hs_object_id -> 3982, lastname -> Garufi, lastmodifieddate -> 2023-12-05T07:23:22.886Z)</td><td>2023-12-05T07:23:22.886Z</td></tr><tr><td>false</td><td>2023-12-05T07:23:09.812Z</td><td>3983</td><td>Map(email -> kallie.blackwood@gmail.com, createdate -> 2023-12-05T07:23:09.812Z, firstname -> Kallie, ismodifiedbyintegration -> True, hs_object_id -> 3983, lastname -> Blackwood, lastmodifieddate -> 2023-12-05T07:38:15.882Z)</td><td>2023-12-05T07:38:15.882Z</td></tr><tr><td>false</td><td>2023-12-05T07:23:09.812Z</td><td>3984</td><td>Map(email -> sage_wieser@cox.net, createdate -> 2023-12-05T07:23:09.812Z, firstname -> Sage, ismodifiedbyintegration -> True, hs_object_id -> 3984, lastname -> Wieser, lastmodifieddate -> 2023-12-05T07:23:16.133Z)</td><td>2023-12-05T07:23:16.133Z</td></tr><tr><td>false</td><td>2023-12-05T07:23:09.812Z</td><td>3985</td><td>Map(email -> emerson.bowley@bowley.org, createdate -> 2023-12-05T07:23:09.812Z, firstname -> Emerson, ismodifiedbyintegration -> True, hs_object_id -> 3985, lastname -> Bowley, lastmodifieddate -> 2023-12-05T07:23:26.381Z)</td><td>2023-12-05T07:23:26.381Z</td></tr><tr><td>false</td><td>2023-12-05T07:23:09.812Z</td><td>3986</td><td>Map(email -> yuki_whobrey@aol.com, createdate -> 2023-12-05T07:23:09.812Z, firstname -> Yuki, ismodifiedbyintegration -> True, hs_object_id -> 3986, lastname -> Whobrey, lastmodifieddate -> 2023-12-05T07:23:18.667Z)</td><td>2023-12-05T07:23:18.667Z</td></tr><tr><td>false</td><td>2023-12-05T07:23:09.812Z</td><td>3987</td><td>Map(email -> youlanda@aol.com, createdate -> 2023-12-05T07:23:09.812Z, firstname -> Youlanda, ismodifiedbyintegration -> True, hs_object_id -> 3987, lastname -> Schemmer, lastmodifieddate -> 2023-12-05T07:23:28.259Z)</td><td>2023-12-05T07:23:28.259Z</td></tr><tr><td>false</td><td>2023-12-05T07:23:09.812Z</td><td>3988</td><td>Map(email -> art@venere.org, createdate -> 2023-12-05T07:23:09.812Z, firstname -> Art, ismodifiedbyintegration -> True, hs_object_id -> 3988, lastname -> Venere, lastmodifieddate -> 2023-12-05T07:38:20.567Z)</td><td>2023-12-05T07:38:20.567Z</td></tr><tr><td>false</td><td>2023-12-05T07:23:09.812Z</td><td>3989</td><td>Map(email -> lnestle@hotmail.com, createdate -> 2023-12-05T07:23:09.812Z, firstname -> Lorrie, ismodifiedbyintegration -> True, hs_object_id -> 3989, lastname -> Nestle, lastmodifieddate -> 2023-12-05T07:23:18.422Z)</td><td>2023-12-05T07:23:18.422Z</td></tr><tr><td>false</td><td>2023-12-05T07:23:09.812Z</td><td>3990</td><td>Map(email -> lpaprocki@hotmail.com, createdate -> 2023-12-05T07:23:09.812Z, firstname -> Lenna, ismodifiedbyintegration -> True, hs_object_id -> 3990, lastname -> Paprocki, lastmodifieddate -> 2023-12-05T07:23:28.470Z)</td><td>2023-12-05T07:23:28.470Z</td></tr><tr><td>false</td><td>2023-12-05T07:23:09.812Z</td><td>3991</td><td>Map(email -> josephine_darakjy@darakjy.org, createdate -> 2023-12-05T07:23:09.812Z, firstname -> Josephine, ismodifiedbyintegration -> True, hs_object_id -> 3991, lastname -> Darakjy, lastmodifieddate -> 2023-12-05T07:38:17.082Z)</td><td>2023-12-05T07:38:17.082Z</td></tr><tr><td>false</td><td>2023-12-05T07:23:09.812Z</td><td>3992</td><td>Map(email -> malinda.hochard@yahoo.com, createdate -> 2023-12-05T07:23:09.812Z, firstname -> Malinda, ismodifiedbyintegration -> True, hs_object_id -> 3992, lastname -> Hochard, lastmodifieddate -> 2023-12-05T07:23:19.232Z)</td><td>2023-12-05T07:23:19.232Z</td></tr><tr><td>false</td><td>2023-12-05T07:23:09.812Z</td><td>3993</td><td>Map(email -> mroyster@royster.com, createdate -> 2023-12-05T07:23:09.812Z, firstname -> Maryann, ismodifiedbyintegration -> True, hs_object_id -> 3993, lastname -> Royster, lastmodifieddate -> 2023-12-05T07:23:15.870Z)</td><td>2023-12-05T07:23:15.870Z</td></tr><tr><td>false</td><td>2023-12-05T07:23:09.812Z</td><td>3994</td><td>Map(email -> jina_briddick@briddick.com, createdate -> 2023-12-05T07:23:09.812Z, firstname -> Jina, ismodifiedbyintegration -> True, hs_object_id -> 3994, lastname -> Briddick, lastmodifieddate -> 2023-12-05T07:23:15.675Z)</td><td>2023-12-05T07:23:15.675Z</td></tr><tr><td>false</td><td>2023-12-05T07:23:09.812Z</td><td>3995</td><td>Map(email -> penney_weight@aol.com, createdate -> 2023-12-05T07:23:09.812Z, firstname -> Penney, ismodifiedbyintegration -> True, hs_object_id -> 3995, lastname -> Weight, lastmodifieddate -> 2023-12-05T07:23:31.387Z)</td><td>2023-12-05T07:23:31.387Z</td></tr><tr><td>false</td><td>2023-12-05T07:23:09.812Z</td><td>3996</td><td>Map(email -> ezekiel@chui.com, createdate -> 2023-12-05T07:23:09.812Z, firstname -> Ezekiel, ismodifiedbyintegration -> True, hs_object_id -> 3996, lastname -> Chui, lastmodifieddate -> 2023-12-05T07:23:25.068Z)</td><td>2023-12-05T07:23:25.068Z</td></tr><tr><td>false</td><td>2023-12-05T07:23:09.812Z</td><td>3997</td><td>Map(email -> danica_bruschke@gmail.com, createdate -> 2023-12-05T07:23:09.812Z, firstname -> Danica, ismodifiedbyintegration -> True, hs_object_id -> 3997, lastname -> Bruschke, lastmodifieddate -> 2023-12-05T07:23:22.432Z)</td><td>2023-12-05T07:23:22.432Z</td></tr><tr><td>false</td><td>2023-12-05T07:23:09.812Z</td><td>3998</td><td>Map(email -> solange@shinko.com, createdate -> 2023-12-05T07:23:09.812Z, firstname -> Solange, ismodifiedbyintegration -> True, hs_object_id -> 3998, lastname -> Shinko, lastmodifieddate -> 2023-12-05T07:23:27.414Z)</td><td>2023-12-05T07:23:27.414Z</td></tr><tr><td>false</td><td>2023-12-05T07:23:09.812Z</td><td>3999</td><td>Map(email -> stephaine@barfield.com, createdate -> 2023-12-05T07:23:09.812Z, firstname -> Stephaine, ismodifiedbyintegration -> True, hs_object_id -> 3999, lastname -> Barfield, lastmodifieddate -> 2023-12-05T07:38:25.634Z)</td><td>2023-12-05T07:38:25.634Z</td></tr><tr><td>false</td><td>2023-12-05T07:23:09.812Z</td><td>4000</td><td>Map(email -> willard@hotmail.com, createdate -> 2023-12-05T07:23:09.812Z, firstname -> Willard, ismodifiedbyintegration -> True, hs_object_id -> 4000, lastname -> Kolmetz, lastmodifieddate -> 2023-12-05T07:23:22.886Z)</td><td>2023-12-05T07:23:22.886Z</td></tr><tr><td>false</td><td>2023-12-05T07:23:09.812Z</td><td>4001</td><td>Map(email -> mmunns@cox.net, createdate -> 2023-12-05T07:23:09.812Z, firstname -> Myra, ismodifiedbyintegration -> True, hs_object_id -> 4001, lastname -> Munns, lastmodifieddate -> 2023-12-05T07:38:27.639Z)</td><td>2023-12-05T07:38:27.639Z</td></tr><tr><td>false</td><td>2023-12-05T07:23:09.812Z</td><td>4002</td><td>Map(email -> carma@cox.net, createdate -> 2023-12-05T07:23:09.812Z, firstname -> Carma, ismodifiedbyintegration -> True, hs_object_id -> 4002, lastname -> Vanheusen, lastmodifieddate -> 2023-12-05T07:23:15.848Z)</td><td>2023-12-05T07:23:15.848Z</td></tr><tr><td>false</td><td>2023-12-05T07:23:09.812Z</td><td>4003</td><td>Map(email -> amber_monarrez@monarrez.org, createdate -> 2023-12-05T07:23:09.812Z, firstname -> Amber, ismodifiedbyintegration -> True, hs_object_id -> 4003, lastname -> Monarrez, lastmodifieddate -> 2023-12-05T07:23:28.732Z)</td><td>2023-12-05T07:23:28.732Z</td></tr><tr><td>false</td><td>2023-12-05T07:23:09.812Z</td><td>4004</td><td>Map(email -> fletcher.flosi@yahoo.com, createdate -> 2023-12-05T07:23:09.812Z, firstname -> Fletcher, ismodifiedbyintegration -> True, hs_object_id -> 4004, lastname -> Flosi, lastmodifieddate -> 2023-12-05T07:23:21.732Z)</td><td>2023-12-05T07:23:21.732Z</td></tr><tr><td>false</td><td>2023-12-05T07:23:09.812Z</td><td>4005</td><td>Map(email -> jbutt@gmail.com, createdate -> 2023-12-05T07:23:09.812Z, firstname -> James, ismodifiedbyintegration -> True, hs_object_id -> 4005, lastname -> Butt, lastmodifieddate -> 2023-12-05T07:23:19.640Z)</td><td>2023-12-05T07:23:19.640Z</td></tr><tr><td>false</td><td>2023-12-05T07:23:09.812Z</td><td>4006</td><td>Map(email -> sabra@uyetake.org, createdate -> 2023-12-05T07:23:09.812Z, firstname -> Sabra, ismodifiedbyintegration -> True, hs_object_id -> 4006, lastname -> Uyetake, lastmodifieddate -> 2023-12-05T07:38:28.519Z)</td><td>2023-12-05T07:38:28.519Z</td></tr><tr><td>false</td><td>2023-12-05T07:23:09.812Z</td><td>4007</td><td>Map(email -> lperin@perin.org, createdate -> 2023-12-05T07:23:09.812Z, firstname -> Lavera, ismodifiedbyintegration -> True, hs_object_id -> 4007, lastname -> Perin, lastmodifieddate -> 2023-12-05T07:23:14.254Z)</td><td>2023-12-05T07:23:14.254Z</td></tr><tr><td>false</td><td>2023-12-05T07:23:09.812Z</td><td>4008</td><td>Map(email -> tamar@hotmail.com, createdate -> 2023-12-05T07:23:09.812Z, firstname -> Tamar, ismodifiedbyintegration -> True, hs_object_id -> 4008, lastname -> Hoogland, lastmodifieddate -> 2023-12-05T07:38:22.866Z)</td><td>2023-12-05T07:38:22.866Z</td></tr><tr><td>false</td><td>2023-12-05T07:23:09.812Z</td><td>4009</td><td>Map(email -> ahoneywell@honeywell.com, createdate -> 2023-12-05T07:23:09.812Z, firstname -> Arlette, ismodifiedbyintegration -> True, hs_object_id -> 4009, lastname -> Honeywell, lastmodifieddate -> 2023-12-05T07:38:13.799Z)</td><td>2023-12-05T07:38:13.799Z</td></tr><tr><td>false</td><td>2023-12-05T07:23:09.812Z</td><td>4010</td><td>Map(email -> gladys.rim@rim.org, createdate -> 2023-12-05T07:23:09.812Z, firstname -> Gladys, ismodifiedbyintegration -> True, hs_object_id -> 4010, lastname -> Rim, lastmodifieddate -> 2023-12-05T07:23:17.835Z)</td><td>2023-12-05T07:23:17.835Z</td></tr><tr><td>false</td><td>2023-12-05T07:23:09.812Z</td><td>4011</td><td>Map(email -> allene_iturbide@cox.net, createdate -> 2023-12-05T07:23:09.812Z, firstname -> Allene, ismodifiedbyintegration -> True, hs_object_id -> 4011, lastname -> Iturbide, lastmodifieddate -> 2023-12-05T07:23:23.992Z)</td><td>2023-12-05T07:23:23.992Z</td></tr><tr><td>false</td><td>2023-12-05T07:23:09.812Z</td><td>4012</td><td>Map(email -> dominque.dickerson@dickerson.org, createdate -> 2023-12-05T07:23:09.812Z, firstname -> Dominque, ismodifiedbyintegration -> True, hs_object_id -> 4012, lastname -> Dickerson, lastmodifieddate -> 2023-12-05T07:38:15.605Z)</td><td>2023-12-05T07:38:15.605Z</td></tr><tr><td>false</td><td>2023-12-05T07:23:09.812Z</td><td>4013</td><td>Map(email -> twenner@aol.com, createdate -> 2023-12-05T07:23:09.812Z, firstname -> Tonette, ismodifiedbyintegration -> True, hs_object_id -> 4013, lastname -> Wenner, lastmodifieddate -> 2023-12-05T07:38:25.640Z)</td><td>2023-12-05T07:38:25.640Z</td></tr><tr><td>false</td><td>2023-12-05T07:23:09.812Z</td><td>4014</td><td>Map(email -> kanisha_waycott@yahoo.com, createdate -> 2023-12-05T07:23:09.812Z, firstname -> Kanisha, ismodifiedbyintegration -> True, hs_object_id -> 4014, lastname -> Waycott, lastmodifieddate -> 2023-12-05T07:23:24.576Z)</td><td>2023-12-05T07:23:24.576Z</td></tr><tr><td>false</td><td>2023-12-05T07:23:09.812Z</td><td>4015</td><td>Map(email -> donette.foller@cox.net, createdate -> 2023-12-05T07:23:09.812Z, firstname -> Donette, ismodifiedbyintegration -> True, hs_object_id -> 4015, lastname -> Foller, lastmodifieddate -> 2023-12-05T07:23:16.445Z)</td><td>2023-12-05T07:23:16.445Z</td></tr><tr><td>false</td><td>2023-12-05T07:23:09.812Z</td><td>4016</td><td>Map(email -> rozella.ostrosky@ostrosky.com, createdate -> 2023-12-05T07:23:09.812Z, firstname -> Rozella, ismodifiedbyintegration -> True, hs_object_id -> 4016, lastname -> Ostrosky, lastmodifieddate -> 2023-12-05T07:23:29.326Z)</td><td>2023-12-05T07:23:29.326Z</td></tr><tr><td>false</td><td>2023-12-05T07:23:09.812Z</td><td>4017</td><td>Map(email -> erick.ferencz@aol.com, createdate -> 2023-12-05T07:23:09.812Z, firstname -> Erick, ismodifiedbyintegration -> True, hs_object_id -> 4017, lastname -> Ferencz, lastmodifieddate -> 2023-12-05T07:23:16.663Z)</td><td>2023-12-05T07:23:16.663Z</td></tr><tr><td>false</td><td>2023-12-05T07:23:09.812Z</td><td>4018</td><td>Map(email -> delisa.crupi@crupi.com, createdate -> 2023-12-05T07:23:09.812Z, firstname -> Delisa, ismodifiedbyintegration -> True, hs_object_id -> 4018, lastname -> Crupi, lastmodifieddate -> 2023-12-05T07:38:20.675Z)</td><td>2023-12-05T07:38:20.675Z</td></tr><tr><td>false</td><td>2023-12-05T07:23:09.812Z</td><td>4019</td><td>Map(email -> albina@glick.com, createdate -> 2023-12-05T07:23:09.812Z, firstname -> Albina, ismodifiedbyintegration -> True, hs_object_id -> 4019, lastname -> Glick, lastmodifieddate -> 2023-12-05T07:23:24.036Z)</td><td>2023-12-05T07:23:24.036Z</td></tr><tr><td>false</td><td>2023-12-05T07:23:09.812Z</td><td>4020</td><td>Map(email -> deeanna_juhas@gmail.com, createdate -> 2023-12-05T07:23:09.812Z, firstname -> Deeanna, ismodifiedbyintegration -> True, hs_object_id -> 4020, lastname -> Juhas, lastmodifieddate -> 2023-12-05T07:23:27.038Z)</td><td>2023-12-05T07:23:27.038Z</td></tr><tr><td>false</td><td>2023-12-05T07:23:09.812Z</td><td>4021</td><td>Map(email -> delmy.ahle@hotmail.com, createdate -> 2023-12-05T07:23:09.812Z, firstname -> Delmy, ismodifiedbyintegration -> True, hs_object_id -> 4021, lastname -> Ahle, lastmodifieddate -> 2023-12-05T07:23:24.582Z)</td><td>2023-12-05T07:23:24.582Z</td></tr><tr><td>false</td><td>2023-12-05T07:23:09.812Z</td><td>4022</td><td>Map(email -> jose@yahoo.com, createdate -> 2023-12-05T07:23:09.812Z, firstname -> Jose, ismodifiedbyintegration -> True, hs_object_id -> 4022, lastname -> Stockham, lastmodifieddate -> 2023-12-05T07:38:22.867Z)</td><td>2023-12-05T07:38:22.867Z</td></tr><tr><td>false</td><td>2023-12-05T07:23:09.812Z</td><td>4023</td><td>Map(email -> timothy_mulqueen@mulqueen.org, createdate -> 2023-12-05T07:23:09.812Z, firstname -> Timothy, ismodifiedbyintegration -> True, hs_object_id -> 4023, lastname -> Mulqueen, lastmodifieddate -> 2023-12-05T07:23:30.352Z)</td><td>2023-12-05T07:23:30.352Z</td></tr><tr><td>false</td><td>2023-12-05T07:23:09.812Z</td><td>4024</td><td>Map(email -> vinouye@aol.com, createdate -> 2023-12-05T07:23:09.812Z, firstname -> Veronika, ismodifiedbyintegration -> True, hs_object_id -> 4024, lastname -> Inouye, lastmodifieddate -> 2023-12-05T07:38:16.803Z)</td><td>2023-12-05T07:38:16.803Z</td></tr><tr><td>false</td><td>2023-12-05T07:23:09.812Z</td><td>4025</td><td>Map(email -> francine_vocelka@vocelka.com, createdate -> 2023-12-05T07:23:09.812Z, firstname -> Francine, ismodifiedbyintegration -> True, hs_object_id -> 4025, lastname -> Vocelka, lastmodifieddate -> 2023-12-05T07:23:18.420Z)</td><td>2023-12-05T07:23:18.420Z</td></tr><tr><td>false</td><td>2023-12-05T07:23:09.812Z</td><td>4026</td><td>Map(email -> alisha@slusarski.com, createdate -> 2023-12-05T07:23:09.812Z, firstname -> Alisha, ismodifiedbyintegration -> True, hs_object_id -> 4026, lastname -> Slusarski, lastmodifieddate -> 2023-12-05T07:23:27.180Z)</td><td>2023-12-05T07:23:27.180Z</td></tr><tr><td>false</td><td>2023-12-05T07:23:09.812Z</td><td>4027</td><td>Map(email -> roxane@hotmail.com, createdate -> 2023-12-05T07:23:09.812Z, firstname -> Roxane, ismodifiedbyintegration -> True, hs_object_id -> 4027, lastname -> Campain, lastmodifieddate -> 2023-12-05T07:23:18.118Z)</td><td>2023-12-05T07:23:18.118Z</td></tr><tr><td>false</td><td>2023-12-05T07:23:09.812Z</td><td>4028</td><td>Map(email -> stephen_emigh@hotmail.com, createdate -> 2023-12-05T07:23:09.812Z, firstname -> Stephen, ismodifiedbyintegration -> True, hs_object_id -> 4028, lastname -> Emigh, lastmodifieddate -> 2023-12-05T07:23:24.012Z)</td><td>2023-12-05T07:23:24.012Z</td></tr><tr><td>false</td><td>2023-12-05T07:23:09.812Z</td><td>4029</td><td>Map(email -> gruta@cox.net, createdate -> 2023-12-05T07:23:09.812Z, firstname -> Graciela, ismodifiedbyintegration -> True, hs_object_id -> 4029, lastname -> Ruta, lastmodifieddate -> 2023-12-05T07:23:24.660Z)</td><td>2023-12-05T07:23:24.660Z</td></tr><tr><td>false</td><td>2023-12-05T07:23:09.812Z</td><td>4030</td><td>Map(email -> chanel.caudy@caudy.org, createdate -> 2023-12-05T07:23:09.812Z, firstname -> Chanel, ismodifiedbyintegration -> True, hs_object_id -> 4030, lastname -> Caudy, lastmodifieddate -> 2023-12-05T07:23:32.317Z)</td><td>2023-12-05T07:23:32.317Z</td></tr><tr><td>false</td><td>2023-12-05T07:23:09.812Z</td><td>4031</td><td>Map(email -> tawna@gmail.com, createdate -> 2023-12-05T07:23:09.812Z, firstname -> Tawna, ismodifiedbyintegration -> True, hs_object_id -> 4031, lastname -> Buvens, lastmodifieddate -> 2023-12-05T07:23:23.766Z)</td><td>2023-12-05T07:23:23.766Z</td></tr><tr><td>false</td><td>2023-12-05T07:23:09.812Z</td><td>4032</td><td>Map(email -> mattie@aol.com, createdate -> 2023-12-05T07:23:09.812Z, firstname -> Mattie, ismodifiedbyintegration -> True, hs_object_id -> 4032, lastname -> Poquette, lastmodifieddate -> 2023-12-05T07:23:26.009Z)</td><td>2023-12-05T07:23:26.009Z</td></tr><tr><td>false</td><td>2023-12-05T07:23:09.812Z</td><td>4033</td><td>Map(email -> elza@yahoo.com, createdate -> 2023-12-05T07:23:09.812Z, firstname -> Elza, ismodifiedbyintegration -> True, hs_object_id -> 4033, lastname -> Lipke, lastmodifieddate -> 2023-12-05T07:38:22.350Z)</td><td>2023-12-05T07:38:22.350Z</td></tr><tr><td>false</td><td>2023-12-05T07:23:09.812Z</td><td>4034</td><td>Map(email -> karl_klonowski@yahoo.com, createdate -> 2023-12-05T07:23:09.812Z, firstname -> Karl, ismodifiedbyintegration -> True, hs_object_id -> 4034, lastname -> Klonowski, lastmodifieddate -> 2023-12-05T07:23:19.642Z)</td><td>2023-12-05T07:23:19.642Z</td></tr><tr><td>false</td><td>2023-12-05T07:23:09.812Z</td><td>4035</td><td>Map(email -> leota@hotmail.com, createdate -> 2023-12-05T07:23:09.812Z, firstname -> Leota, ismodifiedbyintegration -> True, hs_object_id -> 4035, lastname -> Dilliard, lastmodifieddate -> 2023-12-05T07:23:24.731Z)</td><td>2023-12-05T07:23:24.731Z</td></tr><tr><td>false</td><td>2023-12-05T07:23:09.812Z</td><td>4036</td><td>Map(email -> kati.rulapaugh@hotmail.com, createdate -> 2023-12-05T07:23:09.812Z, firstname -> Kati, ismodifiedbyintegration -> True, hs_object_id -> 4036, lastname -> Rulapaugh, lastmodifieddate -> 2023-12-05T07:23:16.089Z)</td><td>2023-12-05T07:23:16.089Z</td></tr><tr><td>false</td><td>2023-12-05T07:23:09.812Z</td><td>4037</td><td>Map(email -> micaela_rhymes@gmail.com, createdate -> 2023-12-05T07:23:09.812Z, firstname -> Micaela, ismodifiedbyintegration -> True, hs_object_id -> 4037, lastname -> Rhymes, lastmodifieddate -> 2023-12-05T07:23:29.192Z)</td><td>2023-12-05T07:23:29.192Z</td></tr><tr><td>false</td><td>2023-12-05T07:23:09.812Z</td><td>4038</td><td>Map(email -> fsaylors@saylors.org, createdate -> 2023-12-05T07:23:09.812Z, firstname -> Fatima, ismodifiedbyintegration -> True, hs_object_id -> 4038, lastname -> Saylors, lastmodifieddate -> 2023-12-05T07:23:25.833Z)</td><td>2023-12-05T07:23:25.833Z</td></tr><tr><td>false</td><td>2023-12-05T07:23:09.812Z</td><td>4039</td><td>Map(email -> bette_nicka@cox.net, createdate -> 2023-12-05T07:23:09.812Z, firstname -> Bette, ismodifiedbyintegration -> True, hs_object_id -> 4039, lastname -> Nicka, lastmodifieddate -> 2023-12-05T07:23:15.314Z)</td><td>2023-12-05T07:23:15.314Z</td></tr><tr><td>false</td><td>2023-12-05T07:23:09.812Z</td><td>4040</td><td>Map(email -> lettie_isenhower@yahoo.com, createdate -> 2023-12-05T07:23:09.812Z, firstname -> Lettie, ismodifiedbyintegration -> True, hs_object_id -> 4040, lastname -> Isenhower, lastmodifieddate -> 2023-12-05T07:23:15.826Z)</td><td>2023-12-05T07:23:15.826Z</td></tr><tr><td>false</td><td>2023-12-05T07:23:09.812Z</td><td>4041</td><td>Map(email -> doldroyd@aol.com, createdate -> 2023-12-05T07:23:09.812Z, firstname -> Dyan, ismodifiedbyintegration -> True, hs_object_id -> 4041, lastname -> Oldroyd, lastmodifieddate -> 2023-12-05T07:38:16.593Z)</td><td>2023-12-05T07:38:16.593Z</td></tr></tbody></table></div>"
      ]
     },
     "metadata": {
      "application/vnd.databricks.v1+output": {
       "addedWidgets": {},
       "aggData": [],
       "aggError": "",
       "aggOverflow": false,
       "aggSchema": [],
       "aggSeriesLimitReached": false,
       "aggType": "",
       "arguments": {},
       "columnCustomDisplayInfos": {},
       "data": [
        [
         false,
         "2023-12-01T15:24:42.461Z",
         "51",
         {
          "createdate": "2023-12-01T15:24:42.461Z",
          "email": "bh@hubspot.com",
          "firstname": "Brian",
          "hs_object_id": "51",
          "ismodifiedbyintegration": "True",
          "lastmodifieddate": "2023-12-05T10:14:40.470Z",
          "lastname": "Halligann(test)"
         },
         "2023-12-05T10:14:40.470Z"
        ],
        [
         false,
         "2023-12-01T15:27:44.428Z",
         "551",
         {
          "createdate": "2023-12-01T15:27:44.428Z",
          "email": "a_young@dickenson.com",
          "firstname": "Andys",
          "hs_object_id": "551",
          "ismodifiedbyintegration": "True",
          "lastmodifieddate": "2023-12-04T17:31:10.381Z",
          "lastname": "Young331"
         },
         "2023-12-04T17:31:10.381Z"
        ],
        [
         false,
         "2023-12-01T15:27:51.884Z",
         "1051",
         {
          "createdate": "2023-12-01T15:27:51.884Z",
          "email": "bcooper@biglytdics.net",
          "firstname": "neeraj1",
          "hs_object_id": "1051",
          "ismodifiedbyintegration": "True",
          "lastmodifieddate": "2023-12-05T10:14:40.470Z",
          "lastname": "Cooper133"
         },
         "2023-12-05T10:14:40.470Z"
        ],
        [
         false,
         "2023-12-01T15:27:54.324Z",
         "1201",
         {
          "createdate": "2023-12-01T15:27:54.324Z",
          "email": "pritsuthar.dev@gmail.com",
          "firstname": "Jerryyy",
          "hs_object_id": "1201",
          "ismodifiedbyintegration": "True",
          "lastmodifieddate": "2023-12-04T13:00:32.642Z",
          "lastname": "Kumar2"
         },
         "2023-12-04T13:00:32.642Z"
        ],
        [
         false,
         "2023-12-03T13:35:57.444Z",
         "2551",
         {
          "createdate": "2023-12-03T13:35:57.444Z",
          "email": "zasw@mkoyt.com",
          "firstname": "aaavvsy",
          "hs_object_id": "2551",
          "ismodifiedbyintegration": "True",
          "lastmodifieddate": "2023-12-05T04:54:29.445Z",
          "lastname": "aaa"
         },
         "2023-12-05T04:54:29.445Z"
        ],
        [
         false,
         "2023-12-04T13:11:10.284Z",
         "2801",
         {
          "createdate": "2023-12-04T13:11:10.284Z",
          "email": "afzal@xyz.com",
          "firstname": "afzal",
          "hs_object_id": "2801",
          "ismodifiedbyintegration": "True",
          "lastmodifieddate": "2023-12-04T13:11:15.511Z",
          "lastname": "khan"
         },
         "2023-12-04T13:11:15.511Z"
        ],
        [
         false,
         "2023-12-04T13:44:19.875Z",
         "3051",
         {
          "createdate": "2023-12-04T13:44:19.875Z",
          "email": "bs26@gac.com",
          "firstname": "qwert42",
          "hs_object_id": "3051",
          "ismodifiedbyintegration": "True",
          "lastmodifieddate": "2023-12-04T13:44:25.176Z",
          "lastname": "uyytrewq32"
         },
         "2023-12-04T13:44:25.176Z"
        ],
        [
         false,
         "2023-12-04T13:50:09.495Z",
         "3101",
         {
          "createdate": "2023-12-04T13:50:09.495Z",
          "email": "jcdhcdhujhu@mail.com",
          "firstname": "ndnj",
          "hs_object_id": "3101",
          "ismodifiedbyintegration": "True",
          "lastmodifieddate": "2023-12-04T13:50:21.351Z",
          "lastname": "dcd"
         },
         "2023-12-04T13:50:21.351Z"
        ],
        [
         false,
         "2023-12-04T17:01:19.265Z",
         "3151",
         {
          "createdate": "2023-12-04T17:01:19.265Z",
          "email": "sdew21@m.com",
          "firstname": "wsxc21",
          "hs_object_id": "3151",
          "ismodifiedbyintegration": "True",
          "lastmodifieddate": "2023-12-04T17:01:36.811Z",
          "lastname": "wsaxc21"
         },
         "2023-12-04T17:01:36.811Z"
        ],
        [
         false,
         "2023-12-04T17:25:55.672Z",
         "3201",
         {
          "createdate": "2023-12-04T17:25:55.672Z",
          "email": "testitesting@mca.com",
          "firstname": "finallly testing",
          "hs_object_id": "3201",
          "ismodifiedbyintegration": "True",
          "lastmodifieddate": "2023-12-04T17:41:10.873Z",
          "lastname": "testing2"
         },
         "2023-12-04T17:41:10.873Z"
        ],
        [
         false,
         "2023-12-05T04:54:30.608Z",
         "3301",
         {
          "createdate": "2023-12-05T04:54:30.608Z",
          "email": "aaa@gmail.com",
          "firstname": "aaaaaaaaaa23",
          "hs_object_id": "3301",
          "ismodifiedbyintegration": "True",
          "lastmodifieddate": "2023-12-05T05:21:10.098Z",
          "lastname": "aaaaaaaaaaa23"
         },
         "2023-12-05T05:21:10.098Z"
        ],
        [
         false,
         "2023-12-05T04:54:30.608Z",
         "3302",
         {
          "createdate": "2023-12-05T04:54:30.608Z",
          "email": "nidhcudhcud@jdu.com",
          "firstname": "babsau",
          "hs_object_id": "3302",
          "ismodifiedbyintegration": "True",
          "lastmodifieddate": "2023-12-05T04:54:45.724Z",
          "lastname": "kjihsu"
         },
         "2023-12-05T04:54:45.724Z"
        ],
        [
         false,
         "2023-12-05T05:11:35.131Z",
         "3351",
         {
          "createdate": "2023-12-05T05:11:35.131Z",
          "email": "mnm@xyy.com",
          "firstname": "mnm",
          "hs_object_id": "3351",
          "ismodifiedbyintegration": "True",
          "lastmodifieddate": "2023-12-05T05:11:49.207Z",
          "lastname": "cds"
         },
         "2023-12-05T05:11:49.207Z"
        ],
        [
         false,
         "2023-12-05T05:21:11.284Z",
         "3601",
         {
          "createdate": "2023-12-05T05:21:11.284Z",
          "email": "aa@gmail.com",
          "firstname": "aabcjj234",
          "hs_object_id": "3601",
          "ismodifiedbyintegration": "True",
          "lastmodifieddate": "2023-12-05T05:21:29.598Z",
          "lastname": "aajcjcdj23454"
         },
         "2023-12-05T05:21:29.598Z"
        ],
        [
         false,
         "2023-12-05T05:32:29.114Z",
         "3701",
         {
          "createdate": "2023-12-05T05:32:29.114Z",
          "email": "temp@mail.com",
          "firstname": "sample",
          "hs_object_id": "3701",
          "ismodifiedbyintegration": "True",
          "lastmodifieddate": "2023-12-05T05:32:42.270Z",
          "lastname": "tesmp"
         },
         "2023-12-05T05:32:42.270Z"
        ],
        [
         false,
         "2023-12-05T05:38:37.148Z",
         "3751",
         {
          "createdate": "2023-12-05T05:38:37.148Z",
          "email": "bdcjb@gmail.com",
          "firstname": "mnbus",
          "hs_object_id": "3751",
          "ismodifiedbyintegration": "True",
          "lastmodifieddate": "2023-12-05T05:38:47.317Z",
          "lastname": "ncuhu"
         },
         "2023-12-05T05:38:47.317Z"
        ],
        [
         false,
         "2023-12-05T05:38:37.148Z",
         "3752",
         {
          "createdate": "2023-12-05T05:38:37.148Z",
          "email": "hsbh@mail.com",
          "firstname": "gsygd",
          "hs_object_id": "3752",
          "ismodifiedbyintegration": "True",
          "lastmodifieddate": "2023-12-05T05:38:47.086Z",
          "lastname": "hvch"
         },
         "2023-12-05T05:38:47.086Z"
        ],
        [
         false,
         "2023-12-05T05:55:36.162Z",
         "3801",
         {
          "createdate": "2023-12-05T05:55:36.162Z",
          "email": "aa@mai.com",
          "firstname": "aa",
          "hs_object_id": "3801",
          "ismodifiedbyintegration": "True",
          "lastmodifieddate": "2023-12-05T05:55:53.031Z",
          "lastname": "aa"
         },
         "2023-12-05T05:55:53.031Z"
        ],
        [
         false,
         "2023-12-05T05:57:22.217Z",
         "3901",
         {
          "createdate": "2023-12-05T05:57:22.217Z",
          "email": "qq@mail.com",
          "firstname": "qqqq",
          "hs_object_id": "3901",
          "ismodifiedbyintegration": "True",
          "lastmodifieddate": "2023-12-05T05:57:44.283Z",
          "lastname": "qq"
         },
         "2023-12-05T05:57:44.283Z"
        ],
        [
         false,
         "2023-12-05T07:23:09.812Z",
         "3961",
         {
          "createdate": "2023-12-05T07:23:09.812Z",
          "email": "maurine_yglesias@yglesias.com",
          "firstname": "Maurine",
          "hs_object_id": "3961",
          "ismodifiedbyintegration": "True",
          "lastmodifieddate": "2023-12-05T10:03:47.207Z",
          "lastname": "Yglesias"
         },
         "2023-12-05T10:03:47.207Z"
        ],
        [
         false,
         "2023-12-05T07:23:09.812Z",
         "3962",
         {
          "createdate": "2023-12-05T07:23:09.812Z",
          "email": "wkusko@yahoo.com",
          "firstname": "Willow",
          "hs_object_id": "3962",
          "ismodifiedbyintegration": "True",
          "lastmodifieddate": "2023-12-05T10:03:47.207Z",
          "lastname": "Kusko"
         },
         "2023-12-05T10:03:47.207Z"
        ],
        [
         false,
         "2023-12-05T07:23:09.812Z",
         "3963",
         {
          "createdate": "2023-12-05T07:23:09.812Z",
          "email": "viva.toelkes@gmail.com",
          "firstname": "Viva",
          "hs_object_id": "3963",
          "ismodifiedbyintegration": "True",
          "lastmodifieddate": "2023-12-05T10:03:47.207Z",
          "lastname": "Toelkes"
         },
         "2023-12-05T10:03:47.207Z"
        ],
        [
         false,
         "2023-12-05T07:23:09.812Z",
         "3964",
         {
          "createdate": "2023-12-05T07:23:09.812Z",
          "email": "wilda@cox.net",
          "firstname": "Wilda",
          "hs_object_id": "3964",
          "ismodifiedbyintegration": "True",
          "lastmodifieddate": "2023-12-05T10:03:47.207Z",
          "lastname": "Giguere"
         },
         "2023-12-05T10:03:47.207Z"
        ],
        [
         false,
         "2023-12-05T07:23:09.812Z",
         "3965",
         {
          "createdate": "2023-12-05T07:23:09.812Z",
          "email": "elvera.benimadho@cox.net",
          "firstname": "Elvera",
          "hs_object_id": "3965",
          "ismodifiedbyintegration": "True",
          "lastmodifieddate": "2023-12-05T10:03:47.207Z",
          "lastname": "Benimadho"
         },
         "2023-12-05T10:03:47.207Z"
        ],
        [
         false,
         "2023-12-05T07:23:09.812Z",
         "3966",
         {
          "createdate": "2023-12-05T07:23:09.812Z",
          "email": "vmondella@mondella.com",
          "firstname": "Vallie",
          "hs_object_id": "3966",
          "ismodifiedbyintegration": "True",
          "lastmodifieddate": "2023-12-05T10:03:47.207Z",
          "lastname": "Mondella"
         },
         "2023-12-05T10:03:47.207Z"
        ],
        [
         false,
         "2023-12-05T07:23:09.812Z",
         "3967",
         {
          "createdate": "2023-12-05T07:23:09.812Z",
          "email": "mmastella@mastella.com",
          "firstname": "Marjory",
          "hs_object_id": "3967",
          "ismodifiedbyintegration": "True",
          "lastmodifieddate": "2023-12-05T10:03:47.207Z",
          "lastname": "Mastella"
         },
         "2023-12-05T10:03:47.207Z"
        ],
        [
         false,
         "2023-12-05T07:23:09.812Z",
         "3968",
         {
          "createdate": "2023-12-05T07:23:09.812Z",
          "email": "bmalet@yahoo.com",
          "firstname": "Blair",
          "hs_object_id": "3968",
          "ismodifiedbyintegration": "True",
          "lastmodifieddate": "2023-12-05T10:03:47.207Z",
          "lastname": "Malet"
         },
         "2023-12-05T10:03:47.207Z"
        ],
        [
         false,
         "2023-12-05T07:23:09.812Z",
         "3969",
         {
          "createdate": "2023-12-05T07:23:09.812Z",
          "email": "moon@yahoo.com",
          "firstname": "Moon",
          "hs_object_id": "3969",
          "ismodifiedbyintegration": "True",
          "lastmodifieddate": "2023-12-05T10:03:47.207Z",
          "lastname": "Parlato"
         },
         "2023-12-05T10:03:47.207Z"
        ],
        [
         false,
         "2023-12-05T07:23:09.812Z",
         "3970",
         {
          "createdate": "2023-12-05T07:23:09.812Z",
          "email": "elly_morocco@gmail.com",
          "firstname": "Elly",
          "hs_object_id": "3970",
          "ismodifiedbyintegration": "True",
          "lastmodifieddate": "2023-12-05T10:03:47.207Z",
          "lastname": "Morocco"
         },
         "2023-12-05T10:03:47.207Z"
        ],
        [
         false,
         "2023-12-05T07:23:09.812Z",
         "3971",
         {
          "createdate": "2023-12-05T07:23:09.812Z",
          "email": "kiley.caldarera@aol.com",
          "firstname": "Kiley",
          "hs_object_id": "3971",
          "ismodifiedbyintegration": "True",
          "lastmodifieddate": "2023-12-05T07:23:16.512Z",
          "lastname": "Caldarera"
         },
         "2023-12-05T07:23:16.512Z"
        ],
        [
         false,
         "2023-12-05T07:23:09.812Z",
         "3972",
         {
          "createdate": "2023-12-05T07:23:09.812Z",
          "email": "carmelina_lindall@lindall.com",
          "firstname": "Carmelina",
          "hs_object_id": "3972",
          "ismodifiedbyintegration": "True",
          "lastmodifieddate": "2023-12-05T07:23:28.758Z",
          "lastname": "Lindall"
         },
         "2023-12-05T07:23:28.758Z"
        ],
        [
         false,
         "2023-12-05T07:23:09.812Z",
         "3973",
         {
          "createdate": "2023-12-05T07:23:09.812Z",
          "email": "ernie_stenseth@aol.com",
          "firstname": "Ernie",
          "hs_object_id": "3973",
          "ismodifiedbyintegration": "True",
          "lastmodifieddate": "2023-12-05T07:23:24.729Z",
          "lastname": "Stenseth"
         },
         "2023-12-05T07:23:24.729Z"
        ],
        [
         false,
         "2023-12-05T07:23:09.812Z",
         "3974",
         {
          "createdate": "2023-12-05T07:23:09.812Z",
          "email": "tshields@gmail.com",
          "firstname": "Tyra",
          "hs_object_id": "3974",
          "ismodifiedbyintegration": "True",
          "lastmodifieddate": "2023-12-05T07:38:15.540Z",
          "lastname": "Shields"
         },
         "2023-12-05T07:38:15.540Z"
        ],
        [
         false,
         "2023-12-05T07:23:09.812Z",
         "3975",
         {
          "createdate": "2023-12-05T07:23:09.812Z",
          "email": "bpugh@aol.com",
          "firstname": "Blondell",
          "hs_object_id": "3975",
          "ismodifiedbyintegration": "True",
          "lastmodifieddate": "2023-12-05T07:23:21.807Z",
          "lastname": "Pugh"
         },
         "2023-12-05T07:23:21.807Z"
        ],
        [
         false,
         "2023-12-05T07:23:09.812Z",
         "3976",
         {
          "createdate": "2023-12-05T07:23:09.812Z",
          "email": "kris@gmail.com",
          "firstname": "Kris",
          "hs_object_id": "3976",
          "ismodifiedbyintegration": "True",
          "lastmodifieddate": "2023-12-05T07:38:26.584Z",
          "lastname": "Marrier"
         },
         "2023-12-05T07:38:26.584Z"
        ],
        [
         false,
         "2023-12-05T07:23:09.812Z",
         "3977",
         {
          "createdate": "2023-12-05T07:23:09.812Z",
          "email": "calbares@gmail.com",
          "firstname": "Cammy",
          "hs_object_id": "3977",
          "ismodifiedbyintegration": "True",
          "lastmodifieddate": "2023-12-05T07:38:28.520Z",
          "lastname": "Albares"
         },
         "2023-12-05T07:38:28.520Z"
        ],
        [
         false,
         "2023-12-05T07:23:09.812Z",
         "3978",
         {
          "createdate": "2023-12-05T07:23:09.812Z",
          "email": "lisha@centini.org",
          "firstname": "Lisha",
          "hs_object_id": "3978",
          "ismodifiedbyintegration": "True",
          "lastmodifieddate": "2023-12-05T07:23:24.575Z",
          "lastname": "Centini"
         },
         "2023-12-05T07:23:24.575Z"
        ],
        [
         false,
         "2023-12-05T07:23:09.812Z",
         "3979",
         {
          "createdate": "2023-12-05T07:23:09.812Z",
          "email": "bfigeroa@aol.com",
          "firstname": "Bernardo",
          "hs_object_id": "3979",
          "ismodifiedbyintegration": "True",
          "lastmodifieddate": "2023-12-05T07:23:23.234Z",
          "lastname": "Figeroa"
         },
         "2023-12-05T07:23:23.234Z"
        ],
        [
         false,
         "2023-12-05T07:23:09.812Z",
         "3980",
         {
          "createdate": "2023-12-05T07:23:09.812Z",
          "email": "cory.gibes@gmail.com",
          "firstname": "Cory",
          "hs_object_id": "3980",
          "ismodifiedbyintegration": "True",
          "lastmodifieddate": "2023-12-05T07:23:16.649Z",
          "lastname": "Gibes"
         },
         "2023-12-05T07:23:16.649Z"
        ],
        [
         false,
         "2023-12-05T07:23:09.812Z",
         "3981",
         {
          "createdate": "2023-12-05T07:23:09.812Z",
          "email": "valentine_gillian@gmail.com",
          "firstname": "Valentine",
          "hs_object_id": "3981",
          "ismodifiedbyintegration": "True",
          "lastmodifieddate": "2023-12-05T07:23:26.544Z",
          "lastname": "Gillian"
         },
         "2023-12-05T07:23:26.544Z"
        ],
        [
         false,
         "2023-12-05T07:23:09.812Z",
         "3982",
         {
          "createdate": "2023-12-05T07:23:09.812Z",
          "email": "meaghan@hotmail.com",
          "firstname": "Meaghan",
          "hs_object_id": "3982",
          "ismodifiedbyintegration": "True",
          "lastmodifieddate": "2023-12-05T07:23:22.886Z",
          "lastname": "Garufi"
         },
         "2023-12-05T07:23:22.886Z"
        ],
        [
         false,
         "2023-12-05T07:23:09.812Z",
         "3983",
         {
          "createdate": "2023-12-05T07:23:09.812Z",
          "email": "kallie.blackwood@gmail.com",
          "firstname": "Kallie",
          "hs_object_id": "3983",
          "ismodifiedbyintegration": "True",
          "lastmodifieddate": "2023-12-05T07:38:15.882Z",
          "lastname": "Blackwood"
         },
         "2023-12-05T07:38:15.882Z"
        ],
        [
         false,
         "2023-12-05T07:23:09.812Z",
         "3984",
         {
          "createdate": "2023-12-05T07:23:09.812Z",
          "email": "sage_wieser@cox.net",
          "firstname": "Sage",
          "hs_object_id": "3984",
          "ismodifiedbyintegration": "True",
          "lastmodifieddate": "2023-12-05T07:23:16.133Z",
          "lastname": "Wieser"
         },
         "2023-12-05T07:23:16.133Z"
        ],
        [
         false,
         "2023-12-05T07:23:09.812Z",
         "3985",
         {
          "createdate": "2023-12-05T07:23:09.812Z",
          "email": "emerson.bowley@bowley.org",
          "firstname": "Emerson",
          "hs_object_id": "3985",
          "ismodifiedbyintegration": "True",
          "lastmodifieddate": "2023-12-05T07:23:26.381Z",
          "lastname": "Bowley"
         },
         "2023-12-05T07:23:26.381Z"
        ],
        [
         false,
         "2023-12-05T07:23:09.812Z",
         "3986",
         {
          "createdate": "2023-12-05T07:23:09.812Z",
          "email": "yuki_whobrey@aol.com",
          "firstname": "Yuki",
          "hs_object_id": "3986",
          "ismodifiedbyintegration": "True",
          "lastmodifieddate": "2023-12-05T07:23:18.667Z",
          "lastname": "Whobrey"
         },
         "2023-12-05T07:23:18.667Z"
        ],
        [
         false,
         "2023-12-05T07:23:09.812Z",
         "3987",
         {
          "createdate": "2023-12-05T07:23:09.812Z",
          "email": "youlanda@aol.com",
          "firstname": "Youlanda",
          "hs_object_id": "3987",
          "ismodifiedbyintegration": "True",
          "lastmodifieddate": "2023-12-05T07:23:28.259Z",
          "lastname": "Schemmer"
         },
         "2023-12-05T07:23:28.259Z"
        ],
        [
         false,
         "2023-12-05T07:23:09.812Z",
         "3988",
         {
          "createdate": "2023-12-05T07:23:09.812Z",
          "email": "art@venere.org",
          "firstname": "Art",
          "hs_object_id": "3988",
          "ismodifiedbyintegration": "True",
          "lastmodifieddate": "2023-12-05T07:38:20.567Z",
          "lastname": "Venere"
         },
         "2023-12-05T07:38:20.567Z"
        ],
        [
         false,
         "2023-12-05T07:23:09.812Z",
         "3989",
         {
          "createdate": "2023-12-05T07:23:09.812Z",
          "email": "lnestle@hotmail.com",
          "firstname": "Lorrie",
          "hs_object_id": "3989",
          "ismodifiedbyintegration": "True",
          "lastmodifieddate": "2023-12-05T07:23:18.422Z",
          "lastname": "Nestle"
         },
         "2023-12-05T07:23:18.422Z"
        ],
        [
         false,
         "2023-12-05T07:23:09.812Z",
         "3990",
         {
          "createdate": "2023-12-05T07:23:09.812Z",
          "email": "lpaprocki@hotmail.com",
          "firstname": "Lenna",
          "hs_object_id": "3990",
          "ismodifiedbyintegration": "True",
          "lastmodifieddate": "2023-12-05T07:23:28.470Z",
          "lastname": "Paprocki"
         },
         "2023-12-05T07:23:28.470Z"
        ],
        [
         false,
         "2023-12-05T07:23:09.812Z",
         "3991",
         {
          "createdate": "2023-12-05T07:23:09.812Z",
          "email": "josephine_darakjy@darakjy.org",
          "firstname": "Josephine",
          "hs_object_id": "3991",
          "ismodifiedbyintegration": "True",
          "lastmodifieddate": "2023-12-05T07:38:17.082Z",
          "lastname": "Darakjy"
         },
         "2023-12-05T07:38:17.082Z"
        ],
        [
         false,
         "2023-12-05T07:23:09.812Z",
         "3992",
         {
          "createdate": "2023-12-05T07:23:09.812Z",
          "email": "malinda.hochard@yahoo.com",
          "firstname": "Malinda",
          "hs_object_id": "3992",
          "ismodifiedbyintegration": "True",
          "lastmodifieddate": "2023-12-05T07:23:19.232Z",
          "lastname": "Hochard"
         },
         "2023-12-05T07:23:19.232Z"
        ],
        [
         false,
         "2023-12-05T07:23:09.812Z",
         "3993",
         {
          "createdate": "2023-12-05T07:23:09.812Z",
          "email": "mroyster@royster.com",
          "firstname": "Maryann",
          "hs_object_id": "3993",
          "ismodifiedbyintegration": "True",
          "lastmodifieddate": "2023-12-05T07:23:15.870Z",
          "lastname": "Royster"
         },
         "2023-12-05T07:23:15.870Z"
        ],
        [
         false,
         "2023-12-05T07:23:09.812Z",
         "3994",
         {
          "createdate": "2023-12-05T07:23:09.812Z",
          "email": "jina_briddick@briddick.com",
          "firstname": "Jina",
          "hs_object_id": "3994",
          "ismodifiedbyintegration": "True",
          "lastmodifieddate": "2023-12-05T07:23:15.675Z",
          "lastname": "Briddick"
         },
         "2023-12-05T07:23:15.675Z"
        ],
        [
         false,
         "2023-12-05T07:23:09.812Z",
         "3995",
         {
          "createdate": "2023-12-05T07:23:09.812Z",
          "email": "penney_weight@aol.com",
          "firstname": "Penney",
          "hs_object_id": "3995",
          "ismodifiedbyintegration": "True",
          "lastmodifieddate": "2023-12-05T07:23:31.387Z",
          "lastname": "Weight"
         },
         "2023-12-05T07:23:31.387Z"
        ],
        [
         false,
         "2023-12-05T07:23:09.812Z",
         "3996",
         {
          "createdate": "2023-12-05T07:23:09.812Z",
          "email": "ezekiel@chui.com",
          "firstname": "Ezekiel",
          "hs_object_id": "3996",
          "ismodifiedbyintegration": "True",
          "lastmodifieddate": "2023-12-05T07:23:25.068Z",
          "lastname": "Chui"
         },
         "2023-12-05T07:23:25.068Z"
        ],
        [
         false,
         "2023-12-05T07:23:09.812Z",
         "3997",
         {
          "createdate": "2023-12-05T07:23:09.812Z",
          "email": "danica_bruschke@gmail.com",
          "firstname": "Danica",
          "hs_object_id": "3997",
          "ismodifiedbyintegration": "True",
          "lastmodifieddate": "2023-12-05T07:23:22.432Z",
          "lastname": "Bruschke"
         },
         "2023-12-05T07:23:22.432Z"
        ],
        [
         false,
         "2023-12-05T07:23:09.812Z",
         "3998",
         {
          "createdate": "2023-12-05T07:23:09.812Z",
          "email": "solange@shinko.com",
          "firstname": "Solange",
          "hs_object_id": "3998",
          "ismodifiedbyintegration": "True",
          "lastmodifieddate": "2023-12-05T07:23:27.414Z",
          "lastname": "Shinko"
         },
         "2023-12-05T07:23:27.414Z"
        ],
        [
         false,
         "2023-12-05T07:23:09.812Z",
         "3999",
         {
          "createdate": "2023-12-05T07:23:09.812Z",
          "email": "stephaine@barfield.com",
          "firstname": "Stephaine",
          "hs_object_id": "3999",
          "ismodifiedbyintegration": "True",
          "lastmodifieddate": "2023-12-05T07:38:25.634Z",
          "lastname": "Barfield"
         },
         "2023-12-05T07:38:25.634Z"
        ],
        [
         false,
         "2023-12-05T07:23:09.812Z",
         "4000",
         {
          "createdate": "2023-12-05T07:23:09.812Z",
          "email": "willard@hotmail.com",
          "firstname": "Willard",
          "hs_object_id": "4000",
          "ismodifiedbyintegration": "True",
          "lastmodifieddate": "2023-12-05T07:23:22.886Z",
          "lastname": "Kolmetz"
         },
         "2023-12-05T07:23:22.886Z"
        ],
        [
         false,
         "2023-12-05T07:23:09.812Z",
         "4001",
         {
          "createdate": "2023-12-05T07:23:09.812Z",
          "email": "mmunns@cox.net",
          "firstname": "Myra",
          "hs_object_id": "4001",
          "ismodifiedbyintegration": "True",
          "lastmodifieddate": "2023-12-05T07:38:27.639Z",
          "lastname": "Munns"
         },
         "2023-12-05T07:38:27.639Z"
        ],
        [
         false,
         "2023-12-05T07:23:09.812Z",
         "4002",
         {
          "createdate": "2023-12-05T07:23:09.812Z",
          "email": "carma@cox.net",
          "firstname": "Carma",
          "hs_object_id": "4002",
          "ismodifiedbyintegration": "True",
          "lastmodifieddate": "2023-12-05T07:23:15.848Z",
          "lastname": "Vanheusen"
         },
         "2023-12-05T07:23:15.848Z"
        ],
        [
         false,
         "2023-12-05T07:23:09.812Z",
         "4003",
         {
          "createdate": "2023-12-05T07:23:09.812Z",
          "email": "amber_monarrez@monarrez.org",
          "firstname": "Amber",
          "hs_object_id": "4003",
          "ismodifiedbyintegration": "True",
          "lastmodifieddate": "2023-12-05T07:23:28.732Z",
          "lastname": "Monarrez"
         },
         "2023-12-05T07:23:28.732Z"
        ],
        [
         false,
         "2023-12-05T07:23:09.812Z",
         "4004",
         {
          "createdate": "2023-12-05T07:23:09.812Z",
          "email": "fletcher.flosi@yahoo.com",
          "firstname": "Fletcher",
          "hs_object_id": "4004",
          "ismodifiedbyintegration": "True",
          "lastmodifieddate": "2023-12-05T07:23:21.732Z",
          "lastname": "Flosi"
         },
         "2023-12-05T07:23:21.732Z"
        ],
        [
         false,
         "2023-12-05T07:23:09.812Z",
         "4005",
         {
          "createdate": "2023-12-05T07:23:09.812Z",
          "email": "jbutt@gmail.com",
          "firstname": "James",
          "hs_object_id": "4005",
          "ismodifiedbyintegration": "True",
          "lastmodifieddate": "2023-12-05T07:23:19.640Z",
          "lastname": "Butt"
         },
         "2023-12-05T07:23:19.640Z"
        ],
        [
         false,
         "2023-12-05T07:23:09.812Z",
         "4006",
         {
          "createdate": "2023-12-05T07:23:09.812Z",
          "email": "sabra@uyetake.org",
          "firstname": "Sabra",
          "hs_object_id": "4006",
          "ismodifiedbyintegration": "True",
          "lastmodifieddate": "2023-12-05T07:38:28.519Z",
          "lastname": "Uyetake"
         },
         "2023-12-05T07:38:28.519Z"
        ],
        [
         false,
         "2023-12-05T07:23:09.812Z",
         "4007",
         {
          "createdate": "2023-12-05T07:23:09.812Z",
          "email": "lperin@perin.org",
          "firstname": "Lavera",
          "hs_object_id": "4007",
          "ismodifiedbyintegration": "True",
          "lastmodifieddate": "2023-12-05T07:23:14.254Z",
          "lastname": "Perin"
         },
         "2023-12-05T07:23:14.254Z"
        ],
        [
         false,
         "2023-12-05T07:23:09.812Z",
         "4008",
         {
          "createdate": "2023-12-05T07:23:09.812Z",
          "email": "tamar@hotmail.com",
          "firstname": "Tamar",
          "hs_object_id": "4008",
          "ismodifiedbyintegration": "True",
          "lastmodifieddate": "2023-12-05T07:38:22.866Z",
          "lastname": "Hoogland"
         },
         "2023-12-05T07:38:22.866Z"
        ],
        [
         false,
         "2023-12-05T07:23:09.812Z",
         "4009",
         {
          "createdate": "2023-12-05T07:23:09.812Z",
          "email": "ahoneywell@honeywell.com",
          "firstname": "Arlette",
          "hs_object_id": "4009",
          "ismodifiedbyintegration": "True",
          "lastmodifieddate": "2023-12-05T07:38:13.799Z",
          "lastname": "Honeywell"
         },
         "2023-12-05T07:38:13.799Z"
        ],
        [
         false,
         "2023-12-05T07:23:09.812Z",
         "4010",
         {
          "createdate": "2023-12-05T07:23:09.812Z",
          "email": "gladys.rim@rim.org",
          "firstname": "Gladys",
          "hs_object_id": "4010",
          "ismodifiedbyintegration": "True",
          "lastmodifieddate": "2023-12-05T07:23:17.835Z",
          "lastname": "Rim"
         },
         "2023-12-05T07:23:17.835Z"
        ],
        [
         false,
         "2023-12-05T07:23:09.812Z",
         "4011",
         {
          "createdate": "2023-12-05T07:23:09.812Z",
          "email": "allene_iturbide@cox.net",
          "firstname": "Allene",
          "hs_object_id": "4011",
          "ismodifiedbyintegration": "True",
          "lastmodifieddate": "2023-12-05T07:23:23.992Z",
          "lastname": "Iturbide"
         },
         "2023-12-05T07:23:23.992Z"
        ],
        [
         false,
         "2023-12-05T07:23:09.812Z",
         "4012",
         {
          "createdate": "2023-12-05T07:23:09.812Z",
          "email": "dominque.dickerson@dickerson.org",
          "firstname": "Dominque",
          "hs_object_id": "4012",
          "ismodifiedbyintegration": "True",
          "lastmodifieddate": "2023-12-05T07:38:15.605Z",
          "lastname": "Dickerson"
         },
         "2023-12-05T07:38:15.605Z"
        ],
        [
         false,
         "2023-12-05T07:23:09.812Z",
         "4013",
         {
          "createdate": "2023-12-05T07:23:09.812Z",
          "email": "twenner@aol.com",
          "firstname": "Tonette",
          "hs_object_id": "4013",
          "ismodifiedbyintegration": "True",
          "lastmodifieddate": "2023-12-05T07:38:25.640Z",
          "lastname": "Wenner"
         },
         "2023-12-05T07:38:25.640Z"
        ],
        [
         false,
         "2023-12-05T07:23:09.812Z",
         "4014",
         {
          "createdate": "2023-12-05T07:23:09.812Z",
          "email": "kanisha_waycott@yahoo.com",
          "firstname": "Kanisha",
          "hs_object_id": "4014",
          "ismodifiedbyintegration": "True",
          "lastmodifieddate": "2023-12-05T07:23:24.576Z",
          "lastname": "Waycott"
         },
         "2023-12-05T07:23:24.576Z"
        ],
        [
         false,
         "2023-12-05T07:23:09.812Z",
         "4015",
         {
          "createdate": "2023-12-05T07:23:09.812Z",
          "email": "donette.foller@cox.net",
          "firstname": "Donette",
          "hs_object_id": "4015",
          "ismodifiedbyintegration": "True",
          "lastmodifieddate": "2023-12-05T07:23:16.445Z",
          "lastname": "Foller"
         },
         "2023-12-05T07:23:16.445Z"
        ],
        [
         false,
         "2023-12-05T07:23:09.812Z",
         "4016",
         {
          "createdate": "2023-12-05T07:23:09.812Z",
          "email": "rozella.ostrosky@ostrosky.com",
          "firstname": "Rozella",
          "hs_object_id": "4016",
          "ismodifiedbyintegration": "True",
          "lastmodifieddate": "2023-12-05T07:23:29.326Z",
          "lastname": "Ostrosky"
         },
         "2023-12-05T07:23:29.326Z"
        ],
        [
         false,
         "2023-12-05T07:23:09.812Z",
         "4017",
         {
          "createdate": "2023-12-05T07:23:09.812Z",
          "email": "erick.ferencz@aol.com",
          "firstname": "Erick",
          "hs_object_id": "4017",
          "ismodifiedbyintegration": "True",
          "lastmodifieddate": "2023-12-05T07:23:16.663Z",
          "lastname": "Ferencz"
         },
         "2023-12-05T07:23:16.663Z"
        ],
        [
         false,
         "2023-12-05T07:23:09.812Z",
         "4018",
         {
          "createdate": "2023-12-05T07:23:09.812Z",
          "email": "delisa.crupi@crupi.com",
          "firstname": "Delisa",
          "hs_object_id": "4018",
          "ismodifiedbyintegration": "True",
          "lastmodifieddate": "2023-12-05T07:38:20.675Z",
          "lastname": "Crupi"
         },
         "2023-12-05T07:38:20.675Z"
        ],
        [
         false,
         "2023-12-05T07:23:09.812Z",
         "4019",
         {
          "createdate": "2023-12-05T07:23:09.812Z",
          "email": "albina@glick.com",
          "firstname": "Albina",
          "hs_object_id": "4019",
          "ismodifiedbyintegration": "True",
          "lastmodifieddate": "2023-12-05T07:23:24.036Z",
          "lastname": "Glick"
         },
         "2023-12-05T07:23:24.036Z"
        ],
        [
         false,
         "2023-12-05T07:23:09.812Z",
         "4020",
         {
          "createdate": "2023-12-05T07:23:09.812Z",
          "email": "deeanna_juhas@gmail.com",
          "firstname": "Deeanna",
          "hs_object_id": "4020",
          "ismodifiedbyintegration": "True",
          "lastmodifieddate": "2023-12-05T07:23:27.038Z",
          "lastname": "Juhas"
         },
         "2023-12-05T07:23:27.038Z"
        ],
        [
         false,
         "2023-12-05T07:23:09.812Z",
         "4021",
         {
          "createdate": "2023-12-05T07:23:09.812Z",
          "email": "delmy.ahle@hotmail.com",
          "firstname": "Delmy",
          "hs_object_id": "4021",
          "ismodifiedbyintegration": "True",
          "lastmodifieddate": "2023-12-05T07:23:24.582Z",
          "lastname": "Ahle"
         },
         "2023-12-05T07:23:24.582Z"
        ],
        [
         false,
         "2023-12-05T07:23:09.812Z",
         "4022",
         {
          "createdate": "2023-12-05T07:23:09.812Z",
          "email": "jose@yahoo.com",
          "firstname": "Jose",
          "hs_object_id": "4022",
          "ismodifiedbyintegration": "True",
          "lastmodifieddate": "2023-12-05T07:38:22.867Z",
          "lastname": "Stockham"
         },
         "2023-12-05T07:38:22.867Z"
        ],
        [
         false,
         "2023-12-05T07:23:09.812Z",
         "4023",
         {
          "createdate": "2023-12-05T07:23:09.812Z",
          "email": "timothy_mulqueen@mulqueen.org",
          "firstname": "Timothy",
          "hs_object_id": "4023",
          "ismodifiedbyintegration": "True",
          "lastmodifieddate": "2023-12-05T07:23:30.352Z",
          "lastname": "Mulqueen"
         },
         "2023-12-05T07:23:30.352Z"
        ],
        [
         false,
         "2023-12-05T07:23:09.812Z",
         "4024",
         {
          "createdate": "2023-12-05T07:23:09.812Z",
          "email": "vinouye@aol.com",
          "firstname": "Veronika",
          "hs_object_id": "4024",
          "ismodifiedbyintegration": "True",
          "lastmodifieddate": "2023-12-05T07:38:16.803Z",
          "lastname": "Inouye"
         },
         "2023-12-05T07:38:16.803Z"
        ],
        [
         false,
         "2023-12-05T07:23:09.812Z",
         "4025",
         {
          "createdate": "2023-12-05T07:23:09.812Z",
          "email": "francine_vocelka@vocelka.com",
          "firstname": "Francine",
          "hs_object_id": "4025",
          "ismodifiedbyintegration": "True",
          "lastmodifieddate": "2023-12-05T07:23:18.420Z",
          "lastname": "Vocelka"
         },
         "2023-12-05T07:23:18.420Z"
        ],
        [
         false,
         "2023-12-05T07:23:09.812Z",
         "4026",
         {
          "createdate": "2023-12-05T07:23:09.812Z",
          "email": "alisha@slusarski.com",
          "firstname": "Alisha",
          "hs_object_id": "4026",
          "ismodifiedbyintegration": "True",
          "lastmodifieddate": "2023-12-05T07:23:27.180Z",
          "lastname": "Slusarski"
         },
         "2023-12-05T07:23:27.180Z"
        ],
        [
         false,
         "2023-12-05T07:23:09.812Z",
         "4027",
         {
          "createdate": "2023-12-05T07:23:09.812Z",
          "email": "roxane@hotmail.com",
          "firstname": "Roxane",
          "hs_object_id": "4027",
          "ismodifiedbyintegration": "True",
          "lastmodifieddate": "2023-12-05T07:23:18.118Z",
          "lastname": "Campain"
         },
         "2023-12-05T07:23:18.118Z"
        ],
        [
         false,
         "2023-12-05T07:23:09.812Z",
         "4028",
         {
          "createdate": "2023-12-05T07:23:09.812Z",
          "email": "stephen_emigh@hotmail.com",
          "firstname": "Stephen",
          "hs_object_id": "4028",
          "ismodifiedbyintegration": "True",
          "lastmodifieddate": "2023-12-05T07:23:24.012Z",
          "lastname": "Emigh"
         },
         "2023-12-05T07:23:24.012Z"
        ],
        [
         false,
         "2023-12-05T07:23:09.812Z",
         "4029",
         {
          "createdate": "2023-12-05T07:23:09.812Z",
          "email": "gruta@cox.net",
          "firstname": "Graciela",
          "hs_object_id": "4029",
          "ismodifiedbyintegration": "True",
          "lastmodifieddate": "2023-12-05T07:23:24.660Z",
          "lastname": "Ruta"
         },
         "2023-12-05T07:23:24.660Z"
        ],
        [
         false,
         "2023-12-05T07:23:09.812Z",
         "4030",
         {
          "createdate": "2023-12-05T07:23:09.812Z",
          "email": "chanel.caudy@caudy.org",
          "firstname": "Chanel",
          "hs_object_id": "4030",
          "ismodifiedbyintegration": "True",
          "lastmodifieddate": "2023-12-05T07:23:32.317Z",
          "lastname": "Caudy"
         },
         "2023-12-05T07:23:32.317Z"
        ],
        [
         false,
         "2023-12-05T07:23:09.812Z",
         "4031",
         {
          "createdate": "2023-12-05T07:23:09.812Z",
          "email": "tawna@gmail.com",
          "firstname": "Tawna",
          "hs_object_id": "4031",
          "ismodifiedbyintegration": "True",
          "lastmodifieddate": "2023-12-05T07:23:23.766Z",
          "lastname": "Buvens"
         },
         "2023-12-05T07:23:23.766Z"
        ],
        [
         false,
         "2023-12-05T07:23:09.812Z",
         "4032",
         {
          "createdate": "2023-12-05T07:23:09.812Z",
          "email": "mattie@aol.com",
          "firstname": "Mattie",
          "hs_object_id": "4032",
          "ismodifiedbyintegration": "True",
          "lastmodifieddate": "2023-12-05T07:23:26.009Z",
          "lastname": "Poquette"
         },
         "2023-12-05T07:23:26.009Z"
        ],
        [
         false,
         "2023-12-05T07:23:09.812Z",
         "4033",
         {
          "createdate": "2023-12-05T07:23:09.812Z",
          "email": "elza@yahoo.com",
          "firstname": "Elza",
          "hs_object_id": "4033",
          "ismodifiedbyintegration": "True",
          "lastmodifieddate": "2023-12-05T07:38:22.350Z",
          "lastname": "Lipke"
         },
         "2023-12-05T07:38:22.350Z"
        ],
        [
         false,
         "2023-12-05T07:23:09.812Z",
         "4034",
         {
          "createdate": "2023-12-05T07:23:09.812Z",
          "email": "karl_klonowski@yahoo.com",
          "firstname": "Karl",
          "hs_object_id": "4034",
          "ismodifiedbyintegration": "True",
          "lastmodifieddate": "2023-12-05T07:23:19.642Z",
          "lastname": "Klonowski"
         },
         "2023-12-05T07:23:19.642Z"
        ],
        [
         false,
         "2023-12-05T07:23:09.812Z",
         "4035",
         {
          "createdate": "2023-12-05T07:23:09.812Z",
          "email": "leota@hotmail.com",
          "firstname": "Leota",
          "hs_object_id": "4035",
          "ismodifiedbyintegration": "True",
          "lastmodifieddate": "2023-12-05T07:23:24.731Z",
          "lastname": "Dilliard"
         },
         "2023-12-05T07:23:24.731Z"
        ],
        [
         false,
         "2023-12-05T07:23:09.812Z",
         "4036",
         {
          "createdate": "2023-12-05T07:23:09.812Z",
          "email": "kati.rulapaugh@hotmail.com",
          "firstname": "Kati",
          "hs_object_id": "4036",
          "ismodifiedbyintegration": "True",
          "lastmodifieddate": "2023-12-05T07:23:16.089Z",
          "lastname": "Rulapaugh"
         },
         "2023-12-05T07:23:16.089Z"
        ],
        [
         false,
         "2023-12-05T07:23:09.812Z",
         "4037",
         {
          "createdate": "2023-12-05T07:23:09.812Z",
          "email": "micaela_rhymes@gmail.com",
          "firstname": "Micaela",
          "hs_object_id": "4037",
          "ismodifiedbyintegration": "True",
          "lastmodifieddate": "2023-12-05T07:23:29.192Z",
          "lastname": "Rhymes"
         },
         "2023-12-05T07:23:29.192Z"
        ],
        [
         false,
         "2023-12-05T07:23:09.812Z",
         "4038",
         {
          "createdate": "2023-12-05T07:23:09.812Z",
          "email": "fsaylors@saylors.org",
          "firstname": "Fatima",
          "hs_object_id": "4038",
          "ismodifiedbyintegration": "True",
          "lastmodifieddate": "2023-12-05T07:23:25.833Z",
          "lastname": "Saylors"
         },
         "2023-12-05T07:23:25.833Z"
        ],
        [
         false,
         "2023-12-05T07:23:09.812Z",
         "4039",
         {
          "createdate": "2023-12-05T07:23:09.812Z",
          "email": "bette_nicka@cox.net",
          "firstname": "Bette",
          "hs_object_id": "4039",
          "ismodifiedbyintegration": "True",
          "lastmodifieddate": "2023-12-05T07:23:15.314Z",
          "lastname": "Nicka"
         },
         "2023-12-05T07:23:15.314Z"
        ],
        [
         false,
         "2023-12-05T07:23:09.812Z",
         "4040",
         {
          "createdate": "2023-12-05T07:23:09.812Z",
          "email": "lettie_isenhower@yahoo.com",
          "firstname": "Lettie",
          "hs_object_id": "4040",
          "ismodifiedbyintegration": "True",
          "lastmodifieddate": "2023-12-05T07:23:15.826Z",
          "lastname": "Isenhower"
         },
         "2023-12-05T07:23:15.826Z"
        ],
        [
         false,
         "2023-12-05T07:23:09.812Z",
         "4041",
         {
          "createdate": "2023-12-05T07:23:09.812Z",
          "email": "doldroyd@aol.com",
          "firstname": "Dyan",
          "hs_object_id": "4041",
          "ismodifiedbyintegration": "True",
          "lastmodifieddate": "2023-12-05T07:38:16.593Z",
          "lastname": "Oldroyd"
         },
         "2023-12-05T07:38:16.593Z"
        ]
       ],
       "datasetInfos": [],
       "dbfsResultPath": null,
       "isJsonSchema": true,
       "metadata": {},
       "overflow": false,
       "plotOptions": {
        "customPlotOptions": {},
        "displayType": "table",
        "pivotAggregation": null,
        "pivotColumns": null,
        "xColumns": null,
        "yColumns": null
       },
       "removedWidgets": [],
       "schema": [
        {
         "metadata": "{}",
         "name": "archived",
         "type": "\"boolean\""
        },
        {
         "metadata": "{}",
         "name": "createdAt",
         "type": "\"string\""
        },
        {
         "metadata": "{}",
         "name": "id",
         "type": "\"string\""
        },
        {
         "metadata": "{}",
         "name": "properties",
         "type": "{\"type\":\"map\",\"keyType\":\"string\",\"valueType\":\"string\",\"valueContainsNull\":true}"
        },
        {
         "metadata": "{}",
         "name": "updatedAt",
         "type": "\"string\""
        }
       ],
       "type": "table"
      }
     },
     "output_type": "display_data"
    }
   ],
   "source": [
    "try:\n",
    "    \n",
    "    api_url = f\"https://api.hubapi.com/crm/v3/objects/contacts/search\"\n",
    "    access_token = \"pat-na1-f09a56ea-def1-404e-80f2-854ad3a753f1\"\n",
    "    \n",
    "    headers = {\n",
    "        \"Authorization\": f\"Bearer {access_token}\",\n",
    "        \"Content-Type\": \"application/json\",\n",
    "    }\n",
    "    \n",
    "    body = {\n",
    "       \n",
    "        \"properties\": [\"firstname\", \"lastname\", \"email\", \"ismodifiedbyintegration\"],\n",
    "        \"filterGroups\": [\n",
    "            {\n",
    "                \"filters\": [\n",
    "                    {\n",
    "                        \"propertyName\": \"lastmodifieddate\",\n",
    "                        \"operator\": \"BETWEEN\",\n",
    "                        \"highValue\": f\"{curr_time_hubspot}\",\n",
    "                        \"value\": f\"{last_time_hubspot}\",\n",
    "                    },\n",
    "                    {\n",
    "                       \"propertyName\": \"ismodifiedbyintegration\",\n",
    "                       \"operator\": \"EQ\",\n",
    "                       \"value\": \"True\",\n",
    "                    },\n",
    "                    \n",
    "                ]\n",
    "            }\n",
    "        \n",
    "        ],\n",
    "        \"limit\": 100,\n",
    "        \n",
    "}\n",
    "    \n",
    "\n",
    "    response = requests.post(api_url, headers=headers, json=body)\n",
    "    \n",
    "    if response.status_code == 200:\n",
    "        # Parse JSON response\n",
    "        json_response = response.json()\n",
    "\n",
    "        # Check if \"results\" key exists and is not empty\n",
    "        if \"results\" in json_response and json_response[\"results\"]:\n",
    "          \n",
    "            api_df = spark.createDataFrame(json_response[\"results\"])\n",
    "            \n",
    "            display(api_df)\n",
    "        else:\n",
    "            print(\"No results found in the response.\")\n",
    "\n",
    "    else:\n",
    "        # Print an error message if the request was not successful\n",
    "        print(f\"Error: {response.status_code} - {response.text}\")\n",
    "\n",
    "except Exception as e:\n",
    "    print(f\"An error occurred: {e}\")\n",
    "#5 secs"
   ]
  },
  {
   "cell_type": "code",
   "execution_count": 0,
   "metadata": {
    "application/vnd.databricks.v1+cell": {
     "cellMetadata": {
      "byteLimit": 2048000,
      "rowLimit": 10000
     },
     "inputWidgets": {},
     "nuid": "1e8a7580-d0fe-4c15-8f46-9a691d42d06a",
     "showTitle": true,
     "title": "Writing Data to Salesforce."
    }
   },
   "outputs": [],
   "source": [
    "try:\n",
    "\n",
    "    api = contacts_df.select(\n",
    "        col(\"properties.email\").alias(\"Email\"),\n",
    "        col(\"properties.firstname\").alias(\"FirstName\"),\n",
    "        col(\"properties.lastname\").alias(\"LastName\"),\n",
    "    )\n",
    "    #display(api)\n",
    "    # Convert DataFrame to a list of dictionaries\n",
    "    records_to_insert = api.toPandas().to_dict(\"records\")\n",
    "    #print(records_to_insert)\n",
    "    # Upsert records into Salesforce\n",
    "    sf.bulk.Contact.upsert(records_to_insert, external_id_field=\"Email\")\n",
    "\n",
    "except Exception as e:\n",
    "    print(f\"An error occurred: {e}\")\n",
    "#8-10 secs"
   ]
  },
  {
   "cell_type": "code",
   "execution_count": 0,
   "metadata": {
    "application/vnd.databricks.v1+cell": {
     "cellMetadata": {},
     "inputWidgets": {},
     "nuid": "29e4cced-5d5b-4caf-8299-53cf1358a223",
     "showTitle": false,
     "title": ""
    }
   },
   "outputs": [],
   "source": []
  }
 ],
 "metadata": {
  "application/vnd.databricks.v1+notebook": {
   "dashboards": [],
   "language": "python",
   "notebookMetadata": {
    "pythonIndentUnit": 4
   },
   "notebookName": "salesforce-hubspot_final",
   "widgets": {}
  }
 },
 "nbformat": 4,
 "nbformat_minor": 0
}
